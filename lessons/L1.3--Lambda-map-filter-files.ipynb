{
 "cells": [
  {
   "cell_type": "markdown",
   "metadata": {},
   "source": [
    "# L1.3 Lambda, файлы, мапы, фильтры и упражнение с 9 уровнями сложности\n",
    "\n",
    "* Если у вас всё ещё не получилось установить себе jupyter notebook через анаконду, ты вы всё ещё можете использовать [repl.it](http://repl.it), но вообще говоря уже пора разобраться с этим всем.\n",
    "* Ради прикола в следующий раз когда будете что-то делать через excel, попробуйте выгрузить это в файлик и сделать те же операции через питон\n",
    "* Если и после этой тетрадки вы не начнёте читать справку по питону и его библиотеке, дальше будет совсем непросто. Ещё раз напомню, что основная задача &mdash; понимать, что в библиотеке есть и уметь в её документации сориентироваться\n",
    "\n",
    "Но сначала, закрепляющая задачка. С примерно 9 вариантами сложности"
   ]
  },
  {
   "cell_type": "markdown",
   "metadata": {},
   "source": [
    "## Суть всей задачки\n",
    "\n",
    "Мы хотим обрабатывать кучу чисел на вход, которые получаем от пользователя и выводить по ним некоторую статистику. А именно, считать минимальное, среднее и максимальное значение в последовательности, разброс, медиану и три перцентиля: 25, 50 и 75. Дополнительно посчитайте скользящее среднее с шириной окна 5 по вводимой последовательности.\n",
    "\n",
    "![ща всё будет](img/cat-kbd.gif)\n",
    "\n",
    "Не переживайте, сейчас разберёмся, я не зря сказал что тут _9 варивантов сложности_.\n",
    "\n",
    "Смотрите &mdash; можно сказать, что есть три варианта сложности на входе:\n",
    "\n",
    "1. Функция сразу получает список чисел на вход\n",
    "  * не надо делать никаких проверок, никаких выкрутасов\n",
    "  * просто берёте список и считаете по нему что-нибудь\n",
    "1. Функция получает список чисел на вход как input пользователя\n",
    "  * можно сделать так, что пользоваль вводит числа по одному\n",
    "  * можно попросить всю строку и потом уже токенизировать её\n",
    "  * если правильно всё сделать, то после конвертации просто вызываете вашу реализацию для простого списка\n",
    "  * можно заморочиться и подумать про всякую нерелвантную фигню которую вводил пользователь и отсеивать её. На пустой список выдавать предупреждение что ничего не было введено, а всё, что не int/float во вводе игноририровать, но выводить уведомление об этом (типа \"Вот это ты поехал, чувак. XXX не число.\")\n",
    "1. Функция получает список чисел, прочитав их из файла\n",
    "  * в самом простом варианте &mdash; одно число на строчку\n",
    "  * чуть посложнее &mdash; читать просто все числа, даже если они не одни на строчку\n",
    "  * если правильно всё сделать, то после того как вы прочитали числа из файла и сделали из них список, можно дёргать функцию из другого примера\n",
    "  \n",
    "Ну и так же можно придумать три варианта для \"выхода\":\n",
    "\n",
    "1. Считать только прямые метрики minimum, maximum и арифметическое среднее\n",
    "  * можно использовать встроенные функции `min/max/sum`\n",
    "  * число элементов в списке это просто его длина, `len`\n",
    "1. Считать ещё медиану и перцентили\n",
    "  * для этого надо будет отсортировать список\n",
    "  * медиана считается по-разному для чётного и нечётного числа элементов\n",
    "  * 25 перцентиль это элемент последовательности такой, что 25% последовательности не превышают это значение\n",
    "  * 75 перцентиль это элемент последовательности такой, что 75% последовательности не превышают это значение\n",
    "  * 25 и 75 перцентиль иногда называют первым и третим квартилем\n",
    "1. Посчитать простое скользящее среднее (Simple Moving Average) по этим значениям с окном `n=5`\n",
    "  * окно `n=5` означает что скользящее среднее считается по первые 5 элементов\n",
    "  * попробуйте написать код так чтобы там не было явного суммирования `l[i] + l[i-1] + l[i-2] + l[i-3] + l[i-4]`, и его можно было бы быстро адаптировать под окно с `n=3`\n",
    "\n",
    "Если, условно, сделать простое перемножение то получаем `3x3` вариантов задания. Конечно, когда будете это всё, старайтесь переиспользовать свои же решения и тогда получится меньше. \n",
    "\n",
    "**На этом месте я предлагаю вам остановиться и попробовать сделать всё совсем без подсказок. Когда потыкаетесь, возвращайтесь к заготовкам**\n",
    "\n",
    "---"
   ]
  },
  {
   "cell_type": "markdown",
   "metadata": {},
   "source": [
    "## Exercise 1.3.0\n",
    "\n",
    "Создать функцию, которая на вход принимает список, и печатает минимальное. среднее и максимальное значение в последовательности. Типа такого:\n",
    "```\n",
    "    Разброс от MIN_ЗНАЧЕНИЕ до MAX_ЗНАЧЕНИЕ\n",
    "    Среднее: ЗНАЧЕНИЕ\n",
    "```\n",
    "\n",
    "Всё каждый раз на новой строчке. Все числа печатайте с не более чем 3 знаками после запятой.\n",
    "\n",
    "_Подсказка: тут можно (и нужно) использовать встроенные в питон функции для нахождения максимального элемента последовательности. Но если хотите &laquo;угореть по хардкору&raquo;, то напишите свои._"
   ]
  },
  {
   "cell_type": "code",
   "execution_count": 1,
   "metadata": {},
   "outputs": [],
   "source": [
    "def function_1_3_0(some_list):\n",
    "    min_znach = 0\n",
    "    max_znach = 100\n",
    "    average = 42\n",
    "    print(\"Разброс от %.03f до %.03f\" % (min_znach, max_znach))\n",
    "    print(f\"Среднее: {average:03f}\")"
   ]
  },
  {
   "cell_type": "code",
   "execution_count": 2,
   "metadata": {},
   "outputs": [
    {
     "name": "stdout",
     "output_type": "stream",
     "text": [
      "Разброс от 0.000 до 100.000\n",
      "Среднее: 42.000000\n"
     ]
    }
   ],
   "source": [
    "function_1_3_0([2, 2, 2, 4, 6, 2, 2, 2, 7])"
   ]
  },
  {
   "cell_type": "markdown",
   "metadata": {},
   "source": [
    "## Exercise 1.3.1\n",
    "\n",
    "Получите ввод от пользователя, токенизируйте строку и просто воспользуйтесь тем, что уже написано выше.\n",
    "\n",
    "_Подсказка: как только вы получили список из того, что вводил вам пользователь, не мешкая вызывайте функцию из предыдущего задания, передавая ей в качестве аргумента ваш список. Для приведения строки к числу используйте конструкцию типа `float(\"4.27\")`_"
   ]
  },
  {
   "cell_type": "code",
   "execution_count": 3,
   "metadata": {},
   "outputs": [],
   "source": [
    "def function_1_3_1():\n",
    "    user_input = input(\"Введите несколько чисел через пробел \")\n",
    "    # input_list = ...\n",
    "    # function_1_3_0(input_list)"
   ]
  },
  {
   "cell_type": "code",
   "execution_count": 4,
   "metadata": {},
   "outputs": [
    {
     "name": "stdout",
     "output_type": "stream",
     "text": [
      "Введите несколько чисел через пробел 2 12 85 07\n"
     ]
    }
   ],
   "source": [
    "function_1_3_1()"
   ]
  },
  {
   "cell_type": "markdown",
   "metadata": {},
   "source": [
    "Для того, чтобы сделать следующий уровень и прочитать из файла, придётся дочитать сначала до конца. Поэтому пока можете сделать остальные части\n",
    "\n",
    "## Exercise 1.3.2\n",
    "\n",
    "Выводить медиану и квантили для заданной последовательности\n",
    "```\n",
    "    Медиана последовательности: MEDIAN\n",
    "    q25: VAL, q50: VAL, q75: VAL\n",
    "```\n",
    "\n",
    "_Подсказка: сортировать список можно двумя способами. Один это через `sorted(l)`, а другое через `l.sort()`. Второе сортирует список in-place и потом у вас ваш список `l` будет всё время отсортирован, а другая возвращает отсортированную копию исходного списка. Ещё вам может пригодится оператор целочисленного деления `//` и оператор модуля, `%`._"
   ]
  },
  {
   "cell_type": "code",
   "execution_count": 5,
   "metadata": {},
   "outputs": [],
   "source": [
    "def function_1_3_2(some_list):\n",
    "    # сначала -- показать уже имплементированные метрики\n",
    "    function_1_3_0(some_list)\n",
    "    # тут надо сначала отсортировать\n",
    "    total_elements = len(some_list)\n",
    "    if total_elements % 2 == 1:\n",
    "        # В этом списке нечётное число элементов\n",
    "        median = some_list[total_elements // 10]\n",
    "    else:\n",
    "        # В этом списке нечётное число элементов\n",
    "        median = -273\n",
    "    print(\"Медиана последовательности:\", median)\n",
    "    print(\"q25: 50, q50: 42, q75: -1\")"
   ]
  },
  {
   "cell_type": "code",
   "execution_count": 6,
   "metadata": {},
   "outputs": [
    {
     "name": "stdout",
     "output_type": "stream",
     "text": [
      "Разброс от 0.000 до 100.000\n",
      "Среднее: 42.000000\n",
      "Медиана последовательности: 2\n",
      "q25: 50, q50: 42, q75: -1\n"
     ]
    }
   ],
   "source": [
    "function_1_3_2([2, 2, 2, 4, 6, 72, 75, 7, 10])"
   ]
  },
  {
   "cell_type": "markdown",
   "metadata": {},
   "source": [
    "Вы же понимаете, да, что весь код который я писал для примера в функции можно выкинуть и переписать, он скорее всего чрезмерно дурацкий? Понимаете? Ну вот и отлично.\n",
    "\n",
    "### Нерегулярная рубрика &laquo;вопрос на понимание&raquo;\n",
    "\n",
    "Вот мы посчитали для какой-нибудь нашей последовательности что `q75` будет 127, медиана 100, а `q25` только 30. Что-нибудь можно по этим значениям сказать про эту последовательность?"
   ]
  },
  {
   "cell_type": "markdown",
   "metadata": {},
   "source": [
    "## Exercise 1.3.3*\n",
    "\n",
    "Несмотря на то что оно со звёздочкой, его всё равно стоит сделать. _Тут вам надо домыслить какую-нибудь одобряющую цитата откуда-нибудь_.\n",
    "\n",
    "Посчитать по заданной последовательности SMA с окном 5. Для примеря я покжау как будет выглядеть такая последовательность для окна 3:\n",
    "\n",
    "| i | Последовательность(i) | список с SMA(i) |\n",
    "| -- | ------------------- | --------------- |\n",
    "| 0 | 7 | - |\n",
    "| 1 | 11 | - |\n",
    "| 2 | 6 | (6 + 11 + 7)/3 **=8.000**  |\n",
    "| 3 | 15 | (15 + 6 + 11)/3 **=10.667** |\n",
    "| 4 | 6 | (6 + 15 + 6)/3 **=9.000** |\n",
    "| 5 | 10 | (10 + 6 + 15)/3 **=10.333** |\n",
    "| 6 | 9 | (9 + 10 + 6)/3 **=8.333** |\n",
    "| 7 | 7 | (7 + 9 + 10)/3 **=8.667** |\n",
    "| 8 | 11 | (11 + 7 + 9)/3 **=9.000** |\n",
    "| 9 | 12 | ... |\n",
    "| 10 | 14 | ... |\n",
    "| 11 | 11 | ... |\n",
    "\n",
    "Первых двух элементов просто не будет, но начиная с третьего вы берёте накопившиеся к этому элементы и делите их на три. _Заполните сами последние три строчки в правом столбце._\n",
    "\n",
    "#### Если это построить, то выглядит как-то так\n"
   ]
  },
  {
   "cell_type": "code",
   "execution_count": 3,
   "metadata": {},
   "outputs": [
    {
     "data": {
      "text/html": [
       "<?xml version=\"1.0\" encoding=\"utf-8\"  standalone=\"no\"?>\n",
       "<svg \n",
       " width=\"640\" height=\"480\"\n",
       " viewBox=\"0 0 640 480\"\n",
       " xmlns=\"http://www.w3.org/2000/svg\"\n",
       " xmlns:xlink=\"http://www.w3.org/1999/xlink\"\n",
       ">\n",
       "\n",
       "<title>Gnuplot</title>\n",
       "<desc>Produced by GNUPLOT 5.2 patchlevel 2 </desc>\n",
       "\n",
       "<g id=\"gnuplot_canvas\">\n",
       "\n",
       "<rect x=\"0\" y=\"0\" width=\"640\" height=\"480\" fill=\"none\"/>\n",
       "<defs>\n",
       "\n",
       "\t<circle id='gpDot' r='0.5' stroke-width='0.5'/>\n",
       "\t<path id='gpPt0' stroke-width='0.222' stroke='currentColor' d='M-1,0 h2 M0,-1 v2'/>\n",
       "\t<path id='gpPt1' stroke-width='0.222' stroke='currentColor' d='M-1,-1 L1,1 M1,-1 L-1,1'/>\n",
       "\t<path id='gpPt2' stroke-width='0.222' stroke='currentColor' d='M-1,0 L1,0 M0,-1 L0,1 M-1,-1 L1,1 M-1,1 L1,-1'/>\n",
       "\t<rect id='gpPt3' stroke-width='0.222' stroke='currentColor' x='-1' y='-1' width='2' height='2'/>\n",
       "\t<rect id='gpPt4' stroke-width='0.222' stroke='currentColor' fill='currentColor' x='-1' y='-1' width='2' height='2'/>\n",
       "\t<circle id='gpPt5' stroke-width='0.222' stroke='currentColor' cx='0' cy='0' r='1'/>\n",
       "\t<use xlink:href='#gpPt5' id='gpPt6' fill='currentColor' stroke='none'/>\n",
       "\t<path id='gpPt7' stroke-width='0.222' stroke='currentColor' d='M0,-1.33 L-1.33,0.67 L1.33,0.67 z'/>\n",
       "\t<use xlink:href='#gpPt7' id='gpPt8' fill='currentColor' stroke='none'/>\n",
       "\t<use xlink:href='#gpPt7' id='gpPt9' stroke='currentColor' transform='rotate(180)'/>\n",
       "\t<use xlink:href='#gpPt9' id='gpPt10' fill='currentColor' stroke='none'/>\n",
       "\t<use xlink:href='#gpPt3' id='gpPt11' stroke='currentColor' transform='rotate(45)'/>\n",
       "\t<use xlink:href='#gpPt11' id='gpPt12' fill='currentColor' stroke='none'/>\n",
       "\t<path id='gpPt13' stroke-width='0.222' stroke='currentColor' d='M0,1.330 L1.265,0.411 L0.782,-1.067 L-0.782,-1.076 L-1.265,0.411 z'/>\n",
       "\t<use xlink:href='#gpPt13' id='gpPt14' fill='currentColor' stroke='none'/>\n",
       "\t<filter id='textbox' filterUnits='objectBoundingBox' x='0' y='0' height='1' width='1'>\n",
       "\t  <feFlood flood-color='white' flood-opacity='1' result='bgnd'/>\n",
       "\t  <feComposite in='SourceGraphic' in2='bgnd' operator='atop'/>\n",
       "\t</filter>\n",
       "\t<filter id='greybox' filterUnits='objectBoundingBox' x='0' y='0' height='1' width='1'>\n",
       "\t  <feFlood flood-color='lightgrey' flood-opacity='1' result='grey'/>\n",
       "\t  <feComposite in='SourceGraphic' in2='grey' operator='atop'/>\n",
       "\t</filter>\n",
       "</defs>\n",
       "<g fill=\"none\" color=\"white\" stroke=\"black\" stroke-width=\"1.00\" stroke-linecap=\"butt\" stroke-linejoin=\"miter\">\n",
       "</g>\n",
       "<g fill=\"none\" color=\"black\" stroke=\"currentColor\" stroke-width=\"1.00\" stroke-linecap=\"butt\" stroke-linejoin=\"miter\">\n",
       "\t<path stroke='black'  d='M45.6,444.0 L54.6,444.0  '/>\t<g transform=\"translate(37.3,447.9)\" stroke=\"none\" fill=\"black\" font-family=\"Arial\" font-size=\"12.00\"  text-anchor=\"end\">\n",
       "\t\t<text><tspan font-family=\"Arial\" > 4</tspan></text>\n",
       "\t</g>\n",
       "</g>\n",
       "<g fill=\"none\" color=\"black\" stroke=\"currentColor\" stroke-width=\"1.00\" stroke-linecap=\"butt\" stroke-linejoin=\"miter\">\n",
       "\t<path stroke='black'  d='M45.6,373.0 L54.6,373.0  '/>\t<g transform=\"translate(37.3,376.9)\" stroke=\"none\" fill=\"black\" font-family=\"Arial\" font-size=\"12.00\"  text-anchor=\"end\">\n",
       "\t\t<text><tspan font-family=\"Arial\" > 6</tspan></text>\n",
       "\t</g>\n",
       "</g>\n",
       "<g fill=\"none\" color=\"black\" stroke=\"currentColor\" stroke-width=\"1.00\" stroke-linecap=\"butt\" stroke-linejoin=\"miter\">\n",
       "\t<path stroke='black'  d='M45.6,302.0 L54.6,302.0  '/>\t<g transform=\"translate(37.3,305.9)\" stroke=\"none\" fill=\"black\" font-family=\"Arial\" font-size=\"12.00\"  text-anchor=\"end\">\n",
       "\t\t<text><tspan font-family=\"Arial\" > 8</tspan></text>\n",
       "\t</g>\n",
       "</g>\n",
       "<g fill=\"none\" color=\"black\" stroke=\"currentColor\" stroke-width=\"1.00\" stroke-linecap=\"butt\" stroke-linejoin=\"miter\">\n",
       "\t<path stroke='black'  d='M45.6,231.0 L54.6,231.0  '/>\t<g transform=\"translate(37.3,234.9)\" stroke=\"none\" fill=\"black\" font-family=\"Arial\" font-size=\"12.00\"  text-anchor=\"end\">\n",
       "\t\t<text><tspan font-family=\"Arial\" > 10</tspan></text>\n",
       "\t</g>\n",
       "</g>\n",
       "<g fill=\"none\" color=\"black\" stroke=\"currentColor\" stroke-width=\"1.00\" stroke-linecap=\"butt\" stroke-linejoin=\"miter\">\n",
       "\t<path stroke='black'  d='M45.6,160.1 L54.6,160.1  '/>\t<g transform=\"translate(37.3,164.0)\" stroke=\"none\" fill=\"black\" font-family=\"Arial\" font-size=\"12.00\"  text-anchor=\"end\">\n",
       "\t\t<text><tspan font-family=\"Arial\" > 12</tspan></text>\n",
       "\t</g>\n",
       "</g>\n",
       "<g fill=\"none\" color=\"black\" stroke=\"currentColor\" stroke-width=\"1.00\" stroke-linecap=\"butt\" stroke-linejoin=\"miter\">\n",
       "\t<path stroke='black'  d='M45.6,89.1 L54.6,89.1  '/>\t<g transform=\"translate(37.3,93.0)\" stroke=\"none\" fill=\"black\" font-family=\"Arial\" font-size=\"12.00\"  text-anchor=\"end\">\n",
       "\t\t<text><tspan font-family=\"Arial\" > 14</tspan></text>\n",
       "\t</g>\n",
       "</g>\n",
       "<g fill=\"none\" color=\"black\" stroke=\"currentColor\" stroke-width=\"1.00\" stroke-linecap=\"butt\" stroke-linejoin=\"miter\">\n",
       "\t<path stroke='black'  d='M45.6,18.1 L54.6,18.1  '/>\t<g transform=\"translate(37.3,22.0)\" stroke=\"none\" fill=\"black\" font-family=\"Arial\" font-size=\"12.00\"  text-anchor=\"end\">\n",
       "\t\t<text><tspan font-family=\"Arial\" > 16</tspan></text>\n",
       "\t</g>\n",
       "</g>\n",
       "<g fill=\"none\" color=\"black\" stroke=\"currentColor\" stroke-width=\"1.00\" stroke-linecap=\"butt\" stroke-linejoin=\"miter\">\n",
       "\t<path stroke='black'  d='M45.6,444.0 L45.6,435.0  '/>\t<g transform=\"translate(45.6,465.9)\" stroke=\"none\" fill=\"black\" font-family=\"Arial\" font-size=\"12.00\"  text-anchor=\"middle\">\n",
       "\t\t<text><tspan font-family=\"Arial\" > 0</tspan></text>\n",
       "\t</g>\n",
       "</g>\n",
       "<g fill=\"none\" color=\"black\" stroke=\"currentColor\" stroke-width=\"1.00\" stroke-linecap=\"butt\" stroke-linejoin=\"miter\">\n",
       "\t<path stroke='black'  d='M133.2,444.0 L133.2,435.0  '/>\t<g transform=\"translate(133.2,465.9)\" stroke=\"none\" fill=\"black\" font-family=\"Arial\" font-size=\"12.00\"  text-anchor=\"middle\">\n",
       "\t\t<text><tspan font-family=\"Arial\" > 2</tspan></text>\n",
       "\t</g>\n",
       "</g>\n",
       "<g fill=\"none\" color=\"black\" stroke=\"currentColor\" stroke-width=\"1.00\" stroke-linecap=\"butt\" stroke-linejoin=\"miter\">\n",
       "\t<path stroke='black'  d='M220.8,444.0 L220.8,435.0  '/>\t<g transform=\"translate(220.8,465.9)\" stroke=\"none\" fill=\"black\" font-family=\"Arial\" font-size=\"12.00\"  text-anchor=\"middle\">\n",
       "\t\t<text><tspan font-family=\"Arial\" > 4</tspan></text>\n",
       "\t</g>\n",
       "</g>\n",
       "<g fill=\"none\" color=\"black\" stroke=\"currentColor\" stroke-width=\"1.00\" stroke-linecap=\"butt\" stroke-linejoin=\"miter\">\n",
       "\t<path stroke='black'  d='M308.4,444.0 L308.4,435.0  '/>\t<g transform=\"translate(308.4,465.9)\" stroke=\"none\" fill=\"black\" font-family=\"Arial\" font-size=\"12.00\"  text-anchor=\"middle\">\n",
       "\t\t<text><tspan font-family=\"Arial\" > 6</tspan></text>\n",
       "\t</g>\n",
       "</g>\n",
       "<g fill=\"none\" color=\"black\" stroke=\"currentColor\" stroke-width=\"1.00\" stroke-linecap=\"butt\" stroke-linejoin=\"miter\">\n",
       "\t<path stroke='black'  d='M396.0,444.0 L396.0,435.0  '/>\t<g transform=\"translate(396.0,465.9)\" stroke=\"none\" fill=\"black\" font-family=\"Arial\" font-size=\"12.00\"  text-anchor=\"middle\">\n",
       "\t\t<text><tspan font-family=\"Arial\" > 8</tspan></text>\n",
       "\t</g>\n",
       "</g>\n",
       "<g fill=\"none\" color=\"black\" stroke=\"currentColor\" stroke-width=\"1.00\" stroke-linecap=\"butt\" stroke-linejoin=\"miter\">\n",
       "\t<path stroke='black'  d='M483.6,444.0 L483.6,435.0  '/>\t<g transform=\"translate(483.6,465.9)\" stroke=\"none\" fill=\"black\" font-family=\"Arial\" font-size=\"12.00\"  text-anchor=\"middle\">\n",
       "\t\t<text><tspan font-family=\"Arial\" > 10</tspan></text>\n",
       "\t</g>\n",
       "</g>\n",
       "<g fill=\"none\" color=\"black\" stroke=\"currentColor\" stroke-width=\"1.00\" stroke-linecap=\"butt\" stroke-linejoin=\"miter\">\n",
       "\t<path stroke='black'  d='M571.2,444.0 L571.2,435.0  '/>\t<g transform=\"translate(571.2,465.9)\" stroke=\"none\" fill=\"black\" font-family=\"Arial\" font-size=\"12.00\"  text-anchor=\"middle\">\n",
       "\t\t<text><tspan font-family=\"Arial\" > 12</tspan></text>\n",
       "\t</g>\n",
       "</g>\n",
       "<g fill=\"none\" color=\"black\" stroke=\"currentColor\" stroke-width=\"1.00\" stroke-linecap=\"butt\" stroke-linejoin=\"miter\">\n",
       "</g>\n",
       "<g fill=\"none\" color=\"black\" stroke=\"currentColor\" stroke-width=\"1.00\" stroke-linecap=\"butt\" stroke-linejoin=\"miter\">\n",
       "\t<path stroke='black'  d='M45.6,18.1 L45.6,444.0 L615.0,444.0 M615.0,18.1 M45.6,18.1  '/></g>\n",
       "<g fill=\"none\" color=\"black\" stroke=\"currentColor\" stroke-width=\"1.00\" stroke-linecap=\"butt\" stroke-linejoin=\"miter\">\n",
       "</g>\n",
       "\t<g id=\"gnuplot_plot_1\" ><title>DATA</title>\n",
       "<g fill=\"none\" color=\"white\" stroke=\"black\" stroke-width=\"2.00\" stroke-linecap=\"butt\" stroke-linejoin=\"miter\">\n",
       "</g>\n",
       "<g fill=\"none\" color=\"black\" stroke=\"currentColor\" stroke-width=\"2.00\" stroke-linecap=\"butt\" stroke-linejoin=\"miter\">\n",
       "\t<g transform=\"translate(343.6,137.5)\" stroke=\"none\" fill=\"black\" font-family=\"Arial\" font-size=\"12.00\"  text-anchor=\"end\">\n",
       "\t\t<text><tspan font-family=\"Arial\" >DATA</tspan></text>\n",
       "\t</g>\n",
       "</g>\n",
       "<g fill=\"none\" color=\"black\" stroke=\"currentColor\" stroke-width=\"2.00\" stroke-linecap=\"butt\" stroke-linejoin=\"miter\">\n",
       "\t<path stroke='rgb(  0,  96, 173)'  d='M351.9,133.6 L394.1,133.6 M89.4,337.5 L133.2,195.6 L177.0,373.0 L220.8,53.6 L264.6,373.0 L308.4,231.0\n",
       "\t\tL352.2,266.5 L396.0,337.5 L439.8,195.6 L483.6,160.1 L527.4,89.1 L571.2,195.6  '/>\t<use xlink:href='#gpPt6' transform='translate(89.4,337.5) scale(6.75)' color='rgb(  0,  96, 173)'/>\n",
       "\t<use xlink:href='#gpPt6' transform='translate(133.2,195.6) scale(6.75)' color='rgb(  0,  96, 173)'/>\n",
       "\t<use xlink:href='#gpPt6' transform='translate(177.0,373.0) scale(6.75)' color='rgb(  0,  96, 173)'/>\n",
       "\t<use xlink:href='#gpPt6' transform='translate(220.8,53.6) scale(6.75)' color='rgb(  0,  96, 173)'/>\n",
       "\t<use xlink:href='#gpPt6' transform='translate(264.6,373.0) scale(6.75)' color='rgb(  0,  96, 173)'/>\n",
       "\t<use xlink:href='#gpPt6' transform='translate(308.4,231.0) scale(6.75)' color='rgb(  0,  96, 173)'/>\n",
       "\t<use xlink:href='#gpPt6' transform='translate(352.2,266.5) scale(6.75)' color='rgb(  0,  96, 173)'/>\n",
       "\t<use xlink:href='#gpPt6' transform='translate(396.0,337.5) scale(6.75)' color='rgb(  0,  96, 173)'/>\n",
       "\t<use xlink:href='#gpPt6' transform='translate(439.8,195.6) scale(6.75)' color='rgb(  0,  96, 173)'/>\n",
       "\t<use xlink:href='#gpPt6' transform='translate(483.6,160.1) scale(6.75)' color='rgb(  0,  96, 173)'/>\n",
       "\t<use xlink:href='#gpPt6' transform='translate(527.4,89.1) scale(6.75)' color='rgb(  0,  96, 173)'/>\n",
       "\t<use xlink:href='#gpPt6' transform='translate(571.2,195.6) scale(6.75)' color='rgb(  0,  96, 173)'/>\n",
       "\t<use xlink:href='#gpPt6' transform='translate(373.0,133.6) scale(6.75)' color='rgb(  0,  96, 173)'/>\n",
       "</g>\n",
       "\t</g>\n",
       "\t<g id=\"gnuplot_plot_2\" ><title>SMA 3</title>\n",
       "<g fill=\"none\" color=\"black\" stroke=\"currentColor\" stroke-width=\"2.00\" stroke-linecap=\"butt\" stroke-linejoin=\"miter\">\n",
       "\t<g transform=\"translate(343.6,155.5)\" stroke=\"none\" fill=\"black\" font-family=\"Arial\" font-size=\"12.00\"  text-anchor=\"end\">\n",
       "\t\t<text><tspan font-family=\"Arial\" >SMA 3</tspan></text>\n",
       "\t</g>\n",
       "</g>\n",
       "<g fill=\"none\" color=\"black\" stroke=\"currentColor\" stroke-width=\"2.00\" stroke-linecap=\"butt\" stroke-linejoin=\"miter\">\n",
       "\t<path stroke='rgb(221,  24,  31)'  d='M351.9,151.6 L394.1,151.6 M177.0,302.0 L220.8,207.4 L264.6,266.5 L308.4,219.2 L352.2,290.2 L396.0,278.4\n",
       "\t\tL439.8,266.5 L483.6,231.0 L527.4,148.2 L571.2,148.2  '/>\t<use xlink:href='#gpPt4' transform='translate(177.0,302.0) scale(6.75)' color='rgb(221,  24,  31)'/>\n",
       "\t<use xlink:href='#gpPt4' transform='translate(220.8,207.4) scale(6.75)' color='rgb(221,  24,  31)'/>\n",
       "\t<use xlink:href='#gpPt4' transform='translate(264.6,266.5) scale(6.75)' color='rgb(221,  24,  31)'/>\n",
       "\t<use xlink:href='#gpPt4' transform='translate(308.4,219.2) scale(6.75)' color='rgb(221,  24,  31)'/>\n",
       "\t<use xlink:href='#gpPt4' transform='translate(352.2,290.2) scale(6.75)' color='rgb(221,  24,  31)'/>\n",
       "\t<use xlink:href='#gpPt4' transform='translate(396.0,278.4) scale(6.75)' color='rgb(221,  24,  31)'/>\n",
       "\t<use xlink:href='#gpPt4' transform='translate(439.8,266.5) scale(6.75)' color='rgb(221,  24,  31)'/>\n",
       "\t<use xlink:href='#gpPt4' transform='translate(483.6,231.0) scale(6.75)' color='rgb(221,  24,  31)'/>\n",
       "\t<use xlink:href='#gpPt4' transform='translate(527.4,148.2) scale(6.75)' color='rgb(221,  24,  31)'/>\n",
       "\t<use xlink:href='#gpPt4' transform='translate(571.2,148.2) scale(6.75)' color='rgb(221,  24,  31)'/>\n",
       "\t<use xlink:href='#gpPt4' transform='translate(373.0,151.6) scale(6.75)' color='rgb(221,  24,  31)'/>\n",
       "</g>\n",
       "\t</g>\n",
       "<g fill=\"none\" color=\"black\" stroke=\"currentColor\" stroke-width=\"2.00\" stroke-linecap=\"butt\" stroke-linejoin=\"miter\">\n",
       "</g>\n",
       "<g fill=\"none\" color=\"black\" stroke=\"black\" stroke-width=\"1.00\" stroke-linecap=\"butt\" stroke-linejoin=\"miter\">\n",
       "</g>\n",
       "<g fill=\"none\" color=\"black\" stroke=\"currentColor\" stroke-width=\"1.00\" stroke-linecap=\"butt\" stroke-linejoin=\"miter\">\n",
       "\t<path stroke='black'  d='M45.6,18.1 L45.6,444.0 L615.0,444.0 M615.0,18.1 M45.6,18.1  '/></g>\n",
       "<g fill=\"none\" color=\"black\" stroke=\"currentColor\" stroke-width=\"1.00\" stroke-linecap=\"butt\" stroke-linejoin=\"miter\">\n",
       "</g>\n",
       "</g>\n",
       "</svg>\n",
       "\n"
      ],
      "text/plain": [
       "<IPython.core.display.HTML object>"
      ]
     },
     "metadata": {},
     "output_type": "display_data"
    }
   ],
   "source": [
    "# не обращайте внимания на эти две строчки\n",
    "from IPython.core.display import display, HTML\n",
    "display(HTML(open(\"img/sma3.svg\").read()))"
   ]
  },
  {
   "cell_type": "code",
   "execution_count": 7,
   "metadata": {},
   "outputs": [],
   "source": [
    "def function_1_3_3(some_list):\n",
    "    function_1_3_2(some_list) # сначала вызовем то что есть\n",
    "    i = 0\n",
    "    for j in range(5, len(some_list)): # с пятого\n",
    "        s = some_list[j] + some_list[i]\n",
    "        # ...\n",
    "    print(\"SMA-последовательность:\\n\", [4, 8, 15, 16, 23, 42])\n",
    "    # тут надо что-то напечатать или вернуть новый список"
   ]
  },
  {
   "cell_type": "code",
   "execution_count": 8,
   "metadata": {},
   "outputs": [
    {
     "name": "stdout",
     "output_type": "stream",
     "text": [
      "Разброс от 0.000 до 100.000\n",
      "Среднее: 42.000000\n",
      "Медиана последовательности: -273\n",
      "q25: 50, q50: 42, q75: -1\n",
      "SMA-последовательность:\n",
      " [4, 8, 15, 16, 23, 42]\n"
     ]
    }
   ],
   "source": [
    "function_1_3_3([7, 11, 6, 15, 6, 10, 9, 7, 11, 12, 14, 11])"
   ]
  },
  {
   "cell_type": "markdown",
   "metadata": {},
   "source": [
    "---\n",
    "\n",
    "Ну вот теперь когда вы уже подопухли, сделайте перерыв и давайте дальше поговорим ещё про штуки в питоне.\n",
    "\n",
    "## Ещё немного про исключения\n",
    "\n",
    "Например, в прошлом занятии я коснулся темы исключений и сказал, что просто так ловить всё подряд не очень хорошо. Правильно ловить что-то конкретное, и обрабатывать его соответвующе"
   ]
  },
  {
   "cell_type": "code",
   "execution_count": 9,
   "metadata": {},
   "outputs": [],
   "source": [
    "def func(some_dict):\n",
    "    try:\n",
    "        print(some_dict.items())\n",
    "    except Exception as e:\n",
    "        raise Exception(e)\n",
    "    print(\"Блаблабла\")"
   ]
  },
  {
   "cell_type": "code",
   "execution_count": 10,
   "metadata": {},
   "outputs": [
    {
     "name": "stdout",
     "output_type": "stream",
     "text": [
      "dict_items([])\n",
      "Блаблабла\n"
     ]
    }
   ],
   "source": [
    "func({}) # вызвали с пустым словарём\n",
    "\n",
    "#f([]) # а вот так взорвётся: у списка нет метода items"
   ]
  },
  {
   "cell_type": "markdown",
   "metadata": {},
   "source": [
    "Ошибки можно типа обрабатывать и не показывать весь стэк вызова, а только релевантные сообщения"
   ]
  },
  {
   "cell_type": "code",
   "execution_count": 11,
   "metadata": {},
   "outputs": [
    {
     "name": "stdout",
     "output_type": "stream",
     "text": [
      "Тут была ошибка:  'int' object has no attribute 'items'\n"
     ]
    }
   ],
   "source": [
    "try:\n",
    "    func(1)\n",
    "except Exception as e:\n",
    "    print(\"Тут была ошибка: \", e)\n",
    "    "
   ]
  },
  {
   "cell_type": "markdown",
   "metadata": {},
   "source": [
    "## List Comprehension и генераторы\n",
    "\n",
    "Допустим, нам надо создать список. Это можно сделать таким вот путём"
   ]
  },
  {
   "cell_type": "code",
   "execution_count": 12,
   "metadata": {},
   "outputs": [
    {
     "name": "stdout",
     "output_type": "stream",
     "text": [
      "[0, 1, 4, 9, 16, 25, 36, 49, 64, 81]\n"
     ]
    }
   ],
   "source": [
    "l = list()\n",
    "for i in range(10):\n",
    "    l.append(i**2)  # x**N -- x в степени N\n",
    "print(l)"
   ]
  },
  {
   "cell_type": "markdown",
   "metadata": {},
   "source": [
    "`range` это специальный оператор для последовательностей, у него похожее поведение как у слайсов:\n",
    "* `range(5)` это числа 0, 1, 2, 3, 4\n",
    "* `range(5, 10)` это числа 5, 6, 7, 8, 9\n",
    "* `range(3, 14, 2)` это числа 3, 5, 7, 9, 11, 13\n",
    "\n",
    "Но эти числа не список, а особым образом генерируемы значения. Когда вы используете `range` в конструкции `for ... in ...` то он просто \"знает\" на каком элементе он сейчас, что отдать когда попросят следующий и когда остановиться. Схожим образом работают генераторы, о них ниже\n",
    "\n",
    "А пока вернёмся к спискам. Можно записать то же самое с использованием list comprehension, это когда вы на месте определяете правило по которому будет сгенерирован список из какой-то последовательности (а если точнее из чего-то итерируемого)"
   ]
  },
  {
   "cell_type": "code",
   "execution_count": 13,
   "metadata": {},
   "outputs": [
    {
     "name": "stdout",
     "output_type": "stream",
     "text": [
      "[0, 1, 4, 9, 16, 25, 36, 49, 64, 81]\n"
     ]
    }
   ],
   "source": [
    "l = [i**2 for i in range(10)]\n",
    "print(l)"
   ]
  },
  {
   "cell_type": "code",
   "execution_count": 14,
   "metadata": {},
   "outputs": [
    {
     "name": "stdout",
     "output_type": "stream",
     "text": [
      "<generator object <genexpr> at 0x7f3d35002ca8>\n"
     ]
    }
   ],
   "source": [
    "g = (i**2 for i in range(10))\n",
    "print(g)"
   ]
  },
  {
   "cell_type": "markdown",
   "metadata": {},
   "source": [
    "Второй пример с круглыми скобками это выражение для генератора, и оно немного другое. Суть генератора в том, что по нему можно \"пройтись\" только один раз, дальше он кончится. При выполнении следующих ячеек периодически возвращайтесь к ячейке с определением генератора и перевыполняйте её."
   ]
  },
  {
   "cell_type": "code",
   "execution_count": 15,
   "metadata": {},
   "outputs": [
    {
     "name": "stdout",
     "output_type": "stream",
     "text": [
      "285\n"
     ]
    }
   ],
   "source": [
    "print(sum(l)) # будет работать всегда, потому что в списке сразу всё"
   ]
  },
  {
   "cell_type": "code",
   "execution_count": 16,
   "metadata": {},
   "outputs": [
    {
     "name": "stdout",
     "output_type": "stream",
     "text": [
      "285\n"
     ]
    }
   ],
   "source": [
    "print(sum(g)) # будет работать только один раз"
   ]
  },
  {
   "cell_type": "code",
   "execution_count": 17,
   "metadata": {},
   "outputs": [
    {
     "data": {
      "text/plain": [
       "[]"
      ]
     },
     "execution_count": 17,
     "metadata": {},
     "output_type": "execute_result"
    }
   ],
   "source": [
    "[x for x in g] # тоже работает один раз"
   ]
  },
  {
   "cell_type": "markdown",
   "metadata": {},
   "source": [
    "Под капотом у генератора всегда вызов специального подкапотного метода `__next__`, который в третем питоне можно дёрнуть двумя способами:"
   ]
  },
  {
   "cell_type": "code",
   "execution_count": 18,
   "metadata": {},
   "outputs": [
    {
     "name": "stdout",
     "output_type": "stream",
     "text": [
      "17\n",
      "18\n"
     ]
    }
   ],
   "source": [
    "g = (i + 17 for i in range(15))\n",
    "print(g.__next__())\n",
    "print(next(g))"
   ]
  },
  {
   "cell_type": "markdown",
   "metadata": {},
   "source": [
    "Попробуйте повызывать следующую ячейку несколько раз (Ctrl+Enter), пока не выскочит исключение `StopIteration`"
   ]
  },
  {
   "cell_type": "code",
   "execution_count": 22,
   "metadata": {},
   "outputs": [
    {
     "data": {
      "text/plain": [
       "22"
      ]
     },
     "execution_count": 22,
     "metadata": {},
     "output_type": "execute_result"
    }
   ],
   "source": [
    "next(g)"
   ]
  },
  {
   "cell_type": "markdown",
   "metadata": {},
   "source": [
    "Это исключение можно точно так же ловить:"
   ]
  },
  {
   "cell_type": "code",
   "execution_count": 32,
   "metadata": {},
   "outputs": [
    {
     "name": "stdout",
     "output_type": "stream",
     "text": [
      "Больше нет в этом генераторе ничего\n"
     ]
    }
   ],
   "source": [
    "try:\n",
    "    print(g.__next__())\n",
    "except StopIteration:\n",
    "    print(\"Больше нет в этом генераторе ничего\")"
   ]
  },
  {
   "cell_type": "markdown",
   "metadata": {},
   "source": [
    "## Lambda function\n",
    "\n",
    "Функция которая создаёт функции. Безымянные. Используется когда надо указать простое правило преобразований элементов \"прямо здесь\" "
   ]
  },
  {
   "cell_type": "code",
   "execution_count": 33,
   "metadata": {},
   "outputs": [],
   "source": [
    "def сделай_это(последовательность, f):\n",
    "    return [f(x) for x in последовательность]"
   ]
  },
  {
   "cell_type": "code",
   "execution_count": 34,
   "metadata": {},
   "outputs": [
    {
     "data": {
      "text/plain": [
       "[True, False, True, False, True, True, True]"
      ]
     },
     "execution_count": 34,
     "metadata": {},
     "output_type": "execute_result"
    }
   ],
   "source": [
    "сделай_это([2, 0, 2, 0, 7, 2, 1], bool)"
   ]
  },
  {
   "cell_type": "markdown",
   "metadata": {},
   "source": [
    "(всё что не ноль с помощью `bool()` превратится в `True`)"
   ]
  },
  {
   "cell_type": "code",
   "execution_count": 35,
   "metadata": {},
   "outputs": [
    {
     "data": {
      "text/plain": [
       "[8, 64, 8, 0, 343]"
      ]
     },
     "execution_count": 35,
     "metadata": {},
     "output_type": "execute_result"
    }
   ],
   "source": [
    "def do_power3(x):\n",
    "    return x**3\n",
    "\n",
    "сделай_это([2, 4, 2, 0, 7], do_power3)"
   ]
  },
  {
   "cell_type": "markdown",
   "metadata": {},
   "source": [
    "Оператор лямбда создаёт функцию, которую можно так же присвоить какой-то переменной и использовать как будто бы вы её определили через `def` (though this is discouraged by code style)"
   ]
  },
  {
   "cell_type": "code",
   "execution_count": 36,
   "metadata": {},
   "outputs": [
    {
     "name": "stdout",
     "output_type": "stream",
     "text": [
      "4\n"
     ]
    }
   ],
   "source": [
    "give_me_two_of_it = lambda x: x*2\n",
    "print(give_me_two_of_it(2))"
   ]
  },
  {
   "cell_type": "markdown",
   "metadata": {},
   "source": [
    "Чаще всего `lambda` используется там, где надо подставить функцию, но заводить её только для этого неуместно потому что надо будет тогда искать где её определили и что она делает. По моему опыту, самые частые случаи использования опреатора `lambda` это операторы `map`, `filter` и `sorted`."
   ]
  },
  {
   "cell_type": "code",
   "execution_count": 37,
   "metadata": {},
   "outputs": [
    {
     "name": "stdout",
     "output_type": "stream",
     "text": [
      "<map object at 0x7f3d347957f0>\n"
     ]
    }
   ],
   "source": [
    "values = [1, 2, 3, 4, 5, 6, 7, 8]\n",
    "print(map(lambda x: x**3, values))"
   ]
  },
  {
   "cell_type": "code",
   "execution_count": 38,
   "metadata": {},
   "outputs": [
    {
     "data": {
      "text/plain": [
       "['Ярополк']"
      ]
     },
     "execution_count": 38,
     "metadata": {},
     "output_type": "execute_result"
    }
   ],
   "source": [
    "words = [\"Маша\", \"Саша\", \"Даша\", \"Ярополк\"]\n",
    "[x for x in filter(lambda x: len(x) > 4, words)]"
   ]
  },
  {
   "cell_type": "code",
   "execution_count": 39,
   "metadata": {},
   "outputs": [
    {
     "name": "stdout",
     "output_type": "stream",
     "text": [
      "['Ярополк']\n"
     ]
    }
   ],
   "source": [
    "ret = []\n",
    "for x in words:\n",
    "    if len(x) > 4:\n",
    "        ret.append(x)\n",
    "print(ret)"
   ]
  },
  {
   "cell_type": "code",
   "execution_count": 40,
   "metadata": {},
   "outputs": [
    {
     "data": {
      "text/plain": [
       "[4, 4, 4, 7]"
      ]
     },
     "execution_count": 40,
     "metadata": {},
     "output_type": "execute_result"
    }
   ],
   "source": [
    "[x for x in map(lambda x: len(x), words)]"
   ]
  },
  {
   "cell_type": "markdown",
   "metadata": {},
   "source": [
    "Однако, если вы используете итерацию по `map/filter` напрямую, вам не надо делать из них явно `list`"
   ]
  },
  {
   "cell_type": "code",
   "execution_count": 41,
   "metadata": {},
   "outputs": [
    {
     "data": {
      "text/plain": [
       "19"
      ]
     },
     "execution_count": 41,
     "metadata": {},
     "output_type": "execute_result"
    }
   ],
   "source": [
    "sum(map(len, words))  # for x in map(...) тоже будет работать"
   ]
  },
  {
   "cell_type": "markdown",
   "metadata": {},
   "source": [
    "## Файлы\n",
    "\n",
    "Ну наконец! Теперь мы сможем закрыть гештальт и доделать нашу задачку.\n",
    "\n",
    "Для того, чтобы открыть файл, используется оператор `open`, первым аргументом указывается путь к файлу, а вторым &mdash; то что мы хотим с ним сделать. Основных вариантов два:\n",
    "\n",
    "* 'w' &mdash; записать в файл, затерев всё что было в нём при открытии\n",
    "* 'r' &mdash; прочитать файл, не меняя содержание\n",
    "\n",
    "Если не указывать режим чтения. то будет подразумеваться режим чтения. Об остальных режимах (например как **дописать** в файл) смотрите в документации."
   ]
  },
  {
   "cell_type": "code",
   "execution_count": 42,
   "metadata": {},
   "outputs": [],
   "source": [
    "f = open(\"some_file.txt\", \"w\")\n",
    "f.write(\"some string\\n\\n\\n\")\n",
    "f.write(\"more strings\")\n",
    "f.close()"
   ]
  },
  {
   "cell_type": "code",
   "execution_count": 43,
   "metadata": {},
   "outputs": [
    {
     "name": "stdout",
     "output_type": "stream",
     "text": [
      "some string\r\n",
      "\r\n",
      "\r\n",
      "more strings"
     ]
    }
   ],
   "source": [
    "!cat \"some_file.txt\""
   ]
  },
  {
   "cell_type": "markdown",
   "metadata": {},
   "source": [
    "Файл надо закрывать прежде чем буфер из памяти перетечёт в него. Чтобы не забывать этого делать руками (по вызову метода `close()` для соответствующего дескриптора), можно использовать оператор контекста:"
   ]
  },
  {
   "cell_type": "code",
   "execution_count": 44,
   "metadata": {},
   "outputs": [],
   "source": [
    "with open(\"some_file.txt\", \"w\") as fp:\n",
    "    fp.write(\"да неее\\n\")\n",
    "    fp.write(\"да дааа!\")\n",
    "    print(\"эта строка без переноса\", file=fp)"
   ]
  },
  {
   "cell_type": "markdown",
   "metadata": {},
   "source": [
    "Его же можно использовать для того, чтобы файл читать:"
   ]
  },
  {
   "cell_type": "code",
   "execution_count": 45,
   "metadata": {},
   "outputs": [
    {
     "name": "stdout",
     "output_type": "stream",
     "text": [
      "<_io.TextIOWrapper name='some_file.txt' mode='r' encoding='UTF-8'>\n",
      "-----\n",
      "1: да неее\n",
      "2: ['да', 'неее']\n",
      "3: ['д', 'а', ' ', 'н', 'е', 'е', 'е', '\\n']\n",
      "---\n",
      "1: да дааа!эта строка без переноса\n",
      "2: ['да', 'дааа!эта', 'строка', 'без', 'переноса']\n",
      "3: ['д', 'а', ' ', 'д', 'а', 'а', 'а', '!', 'э', 'т', 'а', ' ', 'с', 'т', 'р', 'о', 'к', 'а', ' ', 'б', 'е', 'з', ' ', 'п', 'е', 'р', 'е', 'н', 'о', 'с', 'а', '\\n']\n",
      "---\n"
     ]
    }
   ],
   "source": [
    "with open(\"some_file.txt\") as f:\n",
    "    print(f)\n",
    "    print(\"-----\")\n",
    "    for line in f:   # так мы перебираем строки\n",
    "        print(\"1:\", line.strip())\n",
    "        print(\"2:\", line.split())\n",
    "        print(\"3:\", list(line))\n",
    "        print(\"---\")"
   ]
  },
  {
   "cell_type": "markdown",
   "metadata": {},
   "source": [
    "Хотя вообще говоря, если вы файл не изменяли, то что вы его у себя в программе не закрыли это не так критично.\n",
    "\n",
    "Всё, теперь всё готов для финального уровня сложности и модификации входных данных.\n",
    "\n",
    "## Exercise 1.3.4\n",
    "\n",
    "Прочитать введённые пользователем данные из файла и по ним уже вывести посчитанную нами статистику\n",
    "\n",
    "_Подсказка: делать это упражнение без сделанного 1.3.1 может оказаться слишком сложно_"
   ]
  },
  {
   "cell_type": "code",
   "execution_count": 46,
   "metadata": {},
   "outputs": [],
   "source": [
    "def function_1_3_4(file_path):\n",
    "    list_of_numbers_from_file = []\n",
    "    with open(file_path) as fp:\n",
    "        for line in fp:\n",
    "            print(line)\n",
    "            list_of_numbers_from_file.append(12)\n",
    "    print(\"Collected numbers\\n\", list_of_numbers_from_file, \"\\n\")\n",
    "    function_1_3_3(list_of_numbers_from_file)"
   ]
  },
  {
   "cell_type": "code",
   "execution_count": 48,
   "metadata": {},
   "outputs": [
    {
     "name": "stdout",
     "output_type": "stream",
     "text": [
      "да неее\n",
      "\n",
      "да дааа!эта строка без переноса\n",
      "\n",
      "Collected numbers\n",
      " [12, 12] \n",
      "\n",
      "Разброс от 0.000 до 100.000\n",
      "Среднее: 42.000000\n",
      "Медиана последовательности: -273\n",
      "q25: 50, q50: 42, q75: -1\n",
      "SMA-последовательность:\n",
      " [4, 8, 15, 16, 23, 42]\n"
     ]
    }
   ],
   "source": [
    "function_1_3_4(\"some_file.txt\")"
   ]
  },
  {
   "cell_type": "markdown",
   "metadata": {},
   "source": [
    "На этом пока всё. Всего что мы тут в этой тетрадке обсудили должно быть достаточно чтобы сделать таки любое количество вариантов исходной задачи. Удачек // IM"
   ]
  }
 ],
 "metadata": {
  "kernelspec": {
   "display_name": "Python 3",
   "language": "python",
   "name": "python3"
  },
  "language_info": {
   "codemirror_mode": {
    "name": "ipython",
    "version": 3
   },
   "file_extension": ".py",
   "mimetype": "text/x-python",
   "name": "python",
   "nbconvert_exporter": "python",
   "pygments_lexer": "ipython3",
   "version": "3.6.4"
  }
 },
 "nbformat": 4,
 "nbformat_minor": 2
}
