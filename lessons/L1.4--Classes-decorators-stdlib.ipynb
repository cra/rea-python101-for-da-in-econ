{
 "cells": [
  {
   "cell_type": "markdown",
   "metadata": {},
   "source": [
    "# L1.4 Классы, декораторы, ООП, stdlib\n",
    "\n",
    "* Мы подкрадываемся к полному покрытию всех тем, которые я хотел рассказать непосредственно про синтаксис языка Python\n",
    "* Дальше будем больше про библиотеки и анализ. Начинайте вспоминать статистику например"
   ]
  },
  {
   "cell_type": "markdown",
   "metadata": {},
   "source": [
    "## Classes\n",
    "\n",
    "Для наших целей классы это такая штука в которую можно спрятать какую-то логику, причём так чтобы это.\n",
    "\n",
    "Вообще, все ваши классы лучше наследовать от общего типа `object`. Но так как мы пока даже не обсудили, что такое наследование, то давайте просто запомним что классы лучше определять вот так:\n",
    "\n",
    "```python\n",
    "class MyClass(object):\n",
    "    ...\n",
    "```\n",
    "\n",
    "При этом класс это определение некоторых принципов работы определённой коллекции операций и данных. Можно просто воспринимать класс, а точнее его конкретные экземпляры как такой хитрый контейнер. Типа такого:"
   ]
  },
  {
   "cell_type": "code",
   "execution_count": 1,
   "metadata": {},
   "outputs": [
    {
     "name": "stdout",
     "output_type": "stream",
     "text": [
      "Имя Фамилиaoenuя Отчество\n"
     ]
    }
   ],
   "source": [
    "class MyClass(object):\n",
    "    pass\n",
    "\n",
    "a = MyClass()\n",
    "a.name = 'Имя'\n",
    "a.surname = 'Фамилиaoenuя'\n",
    "a.middle_name = 'Отчество'\n",
    "\n",
    "print(a.name, a.surname, a.middle_name)"
   ]
  },
  {
   "cell_type": "markdown",
   "metadata": {},
   "source": [
    "Выше мы создали объект `a` класса `MyClass` и у него задали три поля `name`, `surname` и `middle_name`. При этом, если мы создадим ещё один объект класса `MyClass`, этих полей у него не будет &mdash; они будут только у объекта `a`. Если мы хотим, чтобы у класса были сразу как-то инициированы какие-то поля, то эти операции надо засунуть в конструктор:"
   ]
  },
  {
   "cell_type": "code",
   "execution_count": 2,
   "metadata": {},
   "outputs": [],
   "source": [
    "class MyClass(object):\n",
    "    def __init__(self):  # эта функция вызывается когда мы пишем MyClass()\n",
    "        self.name = 'Имя'\n",
    "        self.surname = 'Фамилия'\n",
    "        self.middle_name = 'Отчество'\n",
    "        \n",
    "    def __str__(self):\n",
    "        return \"%s %s. %s\" % (\n",
    "            self.name, self.middle_name[0], self.surname\n",
    "        )\n",
    "    \n",
    "    def rename(sosisochka, newname):\n",
    "        sosisochka.name = newname\n",
    "        "
   ]
  },
  {
   "cell_type": "code",
   "execution_count": 3,
   "metadata": {},
   "outputs": [
    {
     "name": "stdout",
     "output_type": "stream",
     "text": [
      "Имя О. Фамилия\n"
     ]
    }
   ],
   "source": [
    "a = MyClass()\n",
    "print(a)"
   ]
  },
  {
   "cell_type": "markdown",
   "metadata": {},
   "source": [
    "&laquo;Как можно легко видеть&raquo;, функция `__str__` вызывается, когда мы объект кастуем к строке, либо неявно через `print` либо через `str(a)`, `f\"{a}\"` или `\"%s\" % a` ."
   ]
  },
  {
   "cell_type": "code",
   "execution_count": 4,
   "metadata": {},
   "outputs": [
    {
     "name": "stdout",
     "output_type": "stream",
     "text": [
      "Имя О. Онегин\n"
     ]
    }
   ],
   "source": [
    "b = MyClass()\n",
    "b.surname = \"Онегин\"\n",
    "print(b)"
   ]
  },
  {
   "cell_type": "code",
   "execution_count": 5,
   "metadata": {},
   "outputs": [
    {
     "name": "stdout",
     "output_type": "stream",
     "text": [
      "Евгений О. Онегин\n"
     ]
    }
   ],
   "source": [
    "b.rename(\"Евгений\")\n",
    "print(b)"
   ]
  },
  {
   "cell_type": "markdown",
   "metadata": {},
   "source": [
    "Вот ещё один, чуть более навороченный пример класса с особым композитным полем `fullname`, которое имеет индивидуальный сеттер, что позволяет хитро задавать сразу три поля объекта одной операцией."
   ]
  },
  {
   "cell_type": "code",
   "execution_count": 6,
   "metadata": {},
   "outputs": [],
   "source": [
    "class MyClass(object):\n",
    "    def __init__(self,\n",
    "                 name='unknown',\n",
    "                 surname='unknown',\n",
    "                 middle_name='unknown'\n",
    "    ):\n",
    "        self.name = name\n",
    "        self.surname = surname\n",
    "        self.middle_name = middle_name\n",
    "        \n",
    "    def __str__(self):\n",
    "        return self.fullname\n",
    "    \n",
    "    def fullname_prosto_tak(self):\n",
    "        return \"AAAA %s %s. %s\" % (\n",
    "            self.name.title(),\n",
    "            self.middle_name.title()[0],\n",
    "            self.surname.title()\n",
    "        )\n",
    "    \n",
    "    @property\n",
    "    def fullname(self):\n",
    "        return \"%s %s. %s\" % (\n",
    "            self.name.title(),\n",
    "            self.middle_name.title()[0],\n",
    "            self.surname.title()\n",
    "        )\n",
    "    \n",
    "    @fullname.setter\n",
    "    def fullname(self, value):\n",
    "        self.name, self.middle_name, self.surname = value.split(' ', 2)"
   ]
  },
  {
   "cell_type": "markdown",
   "metadata": {},
   "source": [
    "Часть вашего задания к этой тетрадке &mdash; выяснить что делает в последней строчке у `split` цифра 2."
   ]
  },
  {
   "cell_type": "code",
   "execution_count": 7,
   "metadata": {},
   "outputs": [
    {
     "data": {
      "text/plain": [
       "'Unknown U. Unknown'"
      ]
     },
     "execution_count": 7,
     "metadata": {},
     "output_type": "execute_result"
    }
   ],
   "source": [
    "a = MyClass()\n",
    "a.fullname"
   ]
  },
  {
   "cell_type": "code",
   "execution_count": 8,
   "metadata": {},
   "outputs": [
    {
     "name": "stdout",
     "output_type": "stream",
     "text": [
      "Unknown U. Unknown\n",
      "Игорь Ю. Мосягин\n",
      "Мосягин\n"
     ]
    }
   ],
   "source": [
    "a = MyClass()\n",
    "print(a)\n",
    "a.fullname = \"Игорь Юрьевич Мосягин\"\n",
    "print(a)\n",
    "print(a.surname)"
   ]
  },
  {
   "cell_type": "markdown",
   "metadata": {},
   "source": [
    "У класса могут быть специальные непривязанные к конкретным инстансам методы, которые помечаются как `@classmethod` "
   ]
  },
  {
   "cell_type": "code",
   "execution_count": 9,
   "metadata": {},
   "outputs": [],
   "source": [
    "class MyClass(object):\n",
    "    _secret = None\n",
    "    \n",
    "    @classmethod\n",
    "    def hello(cls):\n",
    "        return \"Дратути\"\n",
    "    \n",
    "    @classmethod\n",
    "    def init_with_secret(cls, secret):\n",
    "        s = MyClass()\n",
    "        s._secret = secret\n",
    "        return s\n",
    "    \n",
    "    def __str__(self):\n",
    "        return f'{self.hello()}. Секрет: {self._secret}'"
   ]
  },
  {
   "cell_type": "markdown",
   "metadata": {},
   "source": [
    "В этом примере мы создали класс с \"секретным\" полем, и не определяли у класса конструктор, но зато определили дополнительный метод который выставляет нужные поля классу."
   ]
  },
  {
   "cell_type": "code",
   "execution_count": 10,
   "metadata": {},
   "outputs": [
    {
     "name": "stdout",
     "output_type": "stream",
     "text": [
      "Дратути. Секрет: 4205\n"
     ]
    }
   ],
   "source": [
    "x = MyClass.init_with_secret(4205)\n",
    "print(x)"
   ]
  },
  {
   "cell_type": "code",
   "execution_count": 11,
   "metadata": {},
   "outputs": [
    {
     "name": "stdout",
     "output_type": "stream",
     "text": [
      "Дратути\n"
     ]
    }
   ],
   "source": [
    "unbound_hello = MyClass.hello()\n",
    "print(unbound_hello)"
   ]
  },
  {
   "cell_type": "markdown",
   "metadata": {},
   "source": [
    "А, да, и обратите внимание что первый аргумент в методах это всегда `self`, а у `classmethods` это `cls`. Это, собственно, текущий объект. Ничто не мешает называть эти первые позиционные аргументы по-другому, но хорошим тоном считается давать им именно такие названия. Считайте это особенностью языка.\n",
    "\n",
    "А вообще, вот эти все конструкции с символом собачки над определениями функций называются декораторами, и их можно использовать, чтобы менять поведение функции. По сути, когда вы видите конструкцию\n",
    "\n",
    "```python\n",
    "@mydecorator\n",
    "def myfunction(a, b, c):\n",
    "    ...\n",
    "```\n",
    "\n",
    "То надо понимать что в этом месте результат вызова функции `myfunction` будет использован как-то декоратором `@mydecorator`. Вообще декораторы это паттерн аспектно-ориентированного программирования и их, конечно, можно (и часто нужно) писать свои. Правда выглядит немного замороченно:"
   ]
  },
  {
   "cell_type": "code",
   "execution_count": 12,
   "metadata": {},
   "outputs": [
    {
     "name": "stdout",
     "output_type": "stream",
     "text": [
      "-- ENTER --\n",
      "** ENTER **\n",
      "Hello there\n",
      "*** EXIT **\n",
      "-- EXIT --\n"
     ]
    }
   ],
   "source": [
    "def my_decorator(f):\n",
    "    def inner_decorator(*args, **kw):\n",
    "        print(\"-- ENTER --\")\n",
    "        f(*args, **kw)\n",
    "        print(\"-- EXIT --\")\n",
    "    return inner_decorator\n",
    "\n",
    "def my_second_decorator(f):\n",
    "    def inner_deco(*args, **kw):\n",
    "        print(\" ENTER \".center(11, \"*\"))\n",
    "        f(*args, **kw)\n",
    "        print(\" EXIT \".center(11, \"*\"))\n",
    "    return inner_deco\n",
    "\n",
    "@my_decorator\n",
    "@my_second_decorator\n",
    "def hello():\n",
    "    print(\"Hello there\")\n",
    "    \n",
    "hello()"
   ]
  },
  {
   "cell_type": "markdown",
   "metadata": {},
   "source": [
    "А если хочется совсем заморочиться, то можно написать вообще класс, объекты которого будут декораторами с какими-то дополнительно определёнными полями, влияющими на поведение. Типа такого:"
   ]
  },
  {
   "cell_type": "code",
   "execution_count": 13,
   "metadata": {},
   "outputs": [
    {
     "name": "stdout",
     "output_type": "stream",
     "text": [
      "***Hello***\n",
      "Inside Function\n",
      "**Goodbye**\n",
      "-----\n",
      "***Hello***\n",
      "***Что-то**\n",
      "Inside Another Function\n",
      "***Другое**\n",
      "**Goodbye**\n"
     ]
    }
   ],
   "source": [
    "# Class Decorator\n",
    "class MyDecorator(object):\n",
    "    def __init__(self, before, after):\n",
    "        self.before = before\n",
    "        self.after = after\n",
    "        \n",
    "    def __call__(self, f):\n",
    "        def inner_f(*args, **kw):\n",
    "            print(self.before.center(11, \"*\"))\n",
    "            f(*args, **kw)\n",
    "            print(self.after.center(11, \"*\"))\n",
    "        return inner_f\n",
    "    \n",
    "mydecoratorobject = MyDecorator('Hello', 'Goodbye')\n",
    "\n",
    "@mydecoratorobject\n",
    "def f():\n",
    "    print('Inside Function')\n",
    "    \n",
    "f()\n",
    "    \n",
    "print('-----')\n",
    "    \n",
    "@mydecoratorobject\n",
    "@MyDecorator('Что-то', 'Другое')\n",
    "def g():\n",
    "    print('Inside Another Function')\n",
    "\n",
    "g()\n"
   ]
  },
  {
   "cell_type": "markdown",
   "metadata": {},
   "source": [
    "А вообще, декораторы бывают ещё и на классы... Но это совсем уже чёрная магия.\n",
    "\n",
    "---\n",
    "\n",
    "## Домашнее задание на почитать: Standard library\n",
    "\n",
    "Речь про описание [стандартной библиотеки](https://docs.python.org/3/library/index.html). Стандартная библиотека большая, есть в любом дистрибутиве питона, и очень полезно уметь в ней ориентироваться.\n",
    "\n",
    "И вообще все первые двадцать глав из мануала про python стоит прочитать.\n",
    "\n",
    "Но в прииинцие, это &mdash; справочник, и можно пропустить при прочтении части которые вы вдруг не понимаете сейчас.\n",
    "\n",
    "При первом прочтении, на мой взгляд, стоит ограничиться следующими разделами:\n",
    "\n",
    "* 1\n",
    "* 2\n",
    "* 3\n",
    "* 4.1, 4.2, 4.3, 4.5, 4.6, 4.7, 4.9, 4.10\n",
    "* 8.1, 8.2, 8.3\n",
    "* 9.1, 9.2, 9.4, 9.6\n",
    "* 10\n",
    "* 11.2, 11.6, 11.10\n",
    "* 12.1, 12,4, 12.6\n",
    "* 14.1, 14,2\n",
    "* 24.1\n",
    "* 25\n",
    "* 27.5\n",
    "\n",
    "Они во многом будут повторять то, что мы уже прошли, но должны ещё дополнить ваши возможности. Ниже несколько примеров использования различных функций модулей стандартной библиотеки"
   ]
  },
  {
   "cell_type": "code",
   "execution_count": 14,
   "metadata": {},
   "outputs": [
    {
     "name": "stdout",
     "output_type": "stream",
     "text": [
      "['CLD_CONTINUED', 'CLD_DUMPED', 'CLD_EXITED', 'CLD_TRAPPED', 'DirEntry', 'EX_CANTCREAT', 'EX_CONFIG', 'EX_DATAERR', 'EX_IOERR', 'EX_NOHOST', 'EX_NOINPUT', 'EX_NOPERM', 'EX_NOUSER', 'EX_OK', 'EX_OSERR', 'EX_OSFILE', 'EX_PROTOCOL', 'EX_SOFTWARE', 'EX_TEMPFAIL', 'EX_UNAVAILABLE', 'EX_USAGE', 'F_LOCK', 'F_OK', 'F_TEST', 'F_TLOCK', 'F_ULOCK', 'GRND_NONBLOCK', 'GRND_RANDOM', 'MutableMapping', 'NGROUPS_MAX', 'O_ACCMODE', 'O_APPEND', 'O_ASYNC', 'O_CLOEXEC', 'O_CREAT', 'O_DIRECT', 'O_DIRECTORY', 'O_DSYNC', 'O_EXCL', 'O_LARGEFILE', 'O_NDELAY', 'O_NOATIME', 'O_NOCTTY', 'O_NOFOLLOW', 'O_NONBLOCK', 'O_PATH', 'O_RDONLY', 'O_RDWR', 'O_RSYNC', 'O_SYNC', 'O_TMPFILE', 'O_TRUNC', 'O_WRONLY', 'POSIX_FADV_DONTNEED', 'POSIX_FADV_NOREUSE', 'POSIX_FADV_NORMAL', 'POSIX_FADV_RANDOM', 'POSIX_FADV_SEQUENTIAL', 'POSIX_FADV_WILLNEED', 'PRIO_PGRP', 'PRIO_PROCESS', 'PRIO_USER', 'P_ALL', 'P_NOWAIT', 'P_NOWAITO', 'P_PGID', 'P_PID', 'P_WAIT', 'PathLike', 'RTLD_DEEPBIND', 'RTLD_GLOBAL', 'RTLD_LAZY', 'RTLD_LOCAL', 'RTLD_NODELETE', 'RTLD_NOLOAD', 'RTLD_NOW', 'R_OK', 'SCHED_BATCH', 'SCHED_FIFO', 'SCHED_IDLE', 'SCHED_OTHER', 'SCHED_RESET_ON_FORK', 'SCHED_RR', 'SEEK_CUR', 'SEEK_DATA', 'SEEK_END', 'SEEK_HOLE', 'SEEK_SET', 'ST_APPEND', 'ST_MANDLOCK', 'ST_NOATIME', 'ST_NODEV', 'ST_NODIRATIME', 'ST_NOEXEC', 'ST_NOSUID', 'ST_RDONLY', 'ST_RELATIME', 'ST_SYNCHRONOUS', 'ST_WRITE', 'TMP_MAX', 'WCONTINUED', 'WCOREDUMP', 'WEXITED', 'WEXITSTATUS', 'WIFCONTINUED', 'WIFEXITED', 'WIFSIGNALED', 'WIFSTOPPED', 'WNOHANG', 'WNOWAIT', 'WSTOPPED', 'WSTOPSIG', 'WTERMSIG', 'WUNTRACED', 'W_OK', 'XATTR_CREATE', 'XATTR_REPLACE', 'XATTR_SIZE_MAX', 'X_OK', '_Environ', '__all__', '__builtins__', '__cached__', '__doc__', '__file__', '__loader__', '__name__', '__package__', '__spec__', '_execvpe', '_exists', '_exit', '_fspath', '_fwalk', '_get_exports_list', '_putenv', '_spawnvef', '_unsetenv', '_wrap_close', 'abc', 'abort', 'access', 'altsep', 'chdir', 'chmod', 'chown', 'chroot', 'close', 'closerange', 'confstr', 'confstr_names', 'cpu_count', 'ctermid', 'curdir', 'defpath', 'device_encoding', 'devnull', 'dup', 'dup2', 'environ', 'environb', 'errno', 'error', 'execl', 'execle', 'execlp', 'execlpe', 'execv', 'execve', 'execvp', 'execvpe', 'extsep', 'fchdir', 'fchmod', 'fchown', 'fdatasync', 'fdopen', 'fork', 'forkpty', 'fpathconf', 'fsdecode', 'fsencode', 'fspath', 'fstat', 'fstatvfs', 'fsync', 'ftruncate', 'fwalk', 'get_blocking', 'get_exec_path', 'get_inheritable', 'get_terminal_size', 'getcwd', 'getcwdb', 'getegid', 'getenv', 'getenvb', 'geteuid', 'getgid', 'getgrouplist', 'getgroups', 'getloadavg', 'getlogin', 'getpgid', 'getpgrp', 'getpid', 'getppid', 'getpriority', 'getrandom', 'getresgid', 'getresuid', 'getsid', 'getuid', 'getxattr', 'initgroups', 'isatty', 'kill', 'killpg', 'lchown', 'linesep', 'link', 'listdir', 'listxattr', 'lockf', 'lseek', 'lstat', 'major', 'makedev', 'makedirs', 'minor', 'mkdir', 'mkfifo', 'mknod', 'name', 'nice', 'open', 'openpty', 'pardir', 'path', 'pathconf', 'pathconf_names', 'pathsep', 'pipe', 'pipe2', 'popen', 'posix_fadvise', 'posix_fallocate', 'pread', 'putenv', 'pwrite', 'read', 'readlink', 'readv', 'remove', 'removedirs', 'removexattr', 'rename', 'renames', 'replace', 'rmdir', 'scandir', 'sched_get_priority_max', 'sched_get_priority_min', 'sched_getaffinity', 'sched_getparam', 'sched_getscheduler', 'sched_param', 'sched_rr_get_interval', 'sched_setaffinity', 'sched_setparam', 'sched_setscheduler', 'sched_yield', 'sendfile', 'sep', 'set_blocking', 'set_inheritable', 'setegid', 'seteuid', 'setgid', 'setgroups', 'setpgid', 'setpgrp', 'setpriority', 'setregid', 'setresgid', 'setresuid', 'setreuid', 'setsid', 'setuid', 'setxattr', 'spawnl', 'spawnle', 'spawnlp', 'spawnlpe', 'spawnv', 'spawnve', 'spawnvp', 'spawnvpe', 'st', 'stat', 'stat_float_times', 'stat_result', 'statvfs', 'statvfs_result', 'strerror', 'supports_bytes_environ', 'supports_dir_fd', 'supports_effective_ids', 'supports_fd', 'supports_follow_symlinks', 'symlink', 'sync', 'sys', 'sysconf', 'sysconf_names', 'system', 'tcgetpgrp', 'tcsetpgrp', 'terminal_size', 'times', 'times_result', 'truncate', 'ttyname', 'umask', 'uname', 'uname_result', 'unlink', 'unsetenv', 'urandom', 'utime', 'wait', 'wait3', 'wait4', 'waitid', 'waitid_result', 'waitpid', 'walk', 'write', 'writev']\n"
     ]
    }
   ],
   "source": [
    "import os\n",
    "print(dir(os))"
   ]
  },
  {
   "cell_type": "code",
   "execution_count": 15,
   "metadata": {},
   "outputs": [
    {
     "name": "stdout",
     "output_type": "stream",
     "text": [
      "['some_file.txt', 'L1.2--Exceptions-Functions.ipynb', 'L1.4--Classes-decorators-stdlib.ipynb', 'L1.1--basics.pdf', 'L1.3--Lambda-map-filter-files.ipynb', 'img', 'L1.1--basics.ipynb', '.ipynb_checkpoints']\n"
     ]
    }
   ],
   "source": [
    "print(os.listdir('./'))"
   ]
  },
  {
   "cell_type": "code",
   "execution_count": 16,
   "metadata": {},
   "outputs": [
    {
     "name": "stdout",
     "output_type": "stream",
     "text": [
      "['some_file.txt', 'L1.2--Exceptions-Functions.ipynb', 'L1.4--Classes-decorators-stdlib.ipynb', 'L1.1--basics.pdf', 'L1.3--Lambda-map-filter-files.ipynb', 'img', 'L1.1--basics.ipynb', '.ipynb_checkpoints']\n"
     ]
    }
   ],
   "source": [
    "from os import listdir\n",
    "print(listdir('.'))"
   ]
  },
  {
   "cell_type": "markdown",
   "metadata": {},
   "source": [
    "В библиотеке есть всякие полезности. Помните мы писали вот такой примерно код когда считали частоты?"
   ]
  },
  {
   "cell_type": "code",
   "execution_count": 17,
   "metadata": {},
   "outputs": [
    {
     "name": "stdout",
     "output_type": "stream",
     "text": [
      "{'ключик': ['сосисочка']}\n"
     ]
    }
   ],
   "source": [
    "d = {}\n",
    "\n",
    "if \"ключик\" in d:\n",
    "    d[\"ключик\"].append(\"сосисочка\")\n",
    "else:\n",
    "    d[\"ключик\"] = []\n",
    "    d[\"ключик\"].append(\"сосисочка\")\n",
    "print(d)"
   ]
  },
  {
   "cell_type": "markdown",
   "metadata": {},
   "source": [
    "Его можно заменить на более простой с помощью `defaultdict`, в конструктор которому передаётся функция  "
   ]
  },
  {
   "cell_type": "code",
   "execution_count": 18,
   "metadata": {},
   "outputs": [
    {
     "name": "stdout",
     "output_type": "stream",
     "text": [
      "defaultdict(<class 'list'>, {'ключик': ['сосисочка']})\n"
     ]
    }
   ],
   "source": [
    "from collections import defaultdict\n",
    "\n",
    "d = defaultdict(list)\n",
    "\n",
    "d[\"ключик\"].append(\"сосисочка\") \n",
    "print(d)"
   ]
  },
  {
   "cell_type": "markdown",
   "metadata": {},
   "source": [
    "Один из самых популярных модулей называется `datetime`, и содержит в себе всякие операции с датами "
   ]
  },
  {
   "cell_type": "code",
   "execution_count": 19,
   "metadata": {},
   "outputs": [
    {
     "name": "stdout",
     "output_type": "stream",
     "text": [
      "2018-04-07 01:19:30.107367\n"
     ]
    }
   ],
   "source": [
    "from datetime import datetime as dt\n",
    "\n",
    "print(dt.now())"
   ]
  },
  {
   "cell_type": "code",
   "execution_count": 20,
   "metadata": {},
   "outputs": [
    {
     "name": "stdout",
     "output_type": "stream",
     "text": [
      "972 days, 22:40:29.500347\n"
     ]
    }
   ],
   "source": [
    "print(dt(2020, 12, 5) - dt.now())"
   ]
  },
  {
   "cell_type": "code",
   "execution_count": 21,
   "metadata": {},
   "outputs": [
    {
     "name": "stdout",
     "output_type": "stream",
     "text": [
      "Осталось 205 days, 20:40:28.972915 до 29 октября\n",
      "Или, если вам так удобнее, 17786428.972915\n"
     ]
    }
   ],
   "source": [
    "wait_time = (dt(2018, 10, 29, hour=22, minute=0) - dt.now())\n",
    "print(f\"Осталось {wait_time} до 29 октября\")\n",
    "print(f\"Или, если вам так удобнее, {wait_time.total_seconds()}\")"
   ]
  },
  {
   "cell_type": "markdown",
   "metadata": {},
   "source": [
    "Ну и на закрепление давайте напишем простую программку.\n",
    "\n",
    "## Exercise 1.4.0\n",
    "\n",
    "Сделать функцию, которая спрашивает пользователя дату рождения и говорит, сколько дней он прожил по текущий момент. \n",
    "\n",
    "_Подсказка: можно сделать несколькими способами, как обычно. Последние несколько ячеек с кодом содержат всё что вам нужно знать про `datetime` чтобы сделать это задание. Если не хотите возиться с разбором того, что ввёл пользователь, просто спросите у него три раза: сначала год рождения, потом месяц, потом дату._"
   ]
  },
  {
   "cell_type": "code",
   "execution_count": 22,
   "metadata": {},
   "outputs": [
    {
     "data": {
      "text/plain": [
       "'Вы живёте 999999 дней'"
      ]
     },
     "execution_count": 22,
     "metadata": {},
     "output_type": "execute_result"
    }
   ],
   "source": [
    "def tell_user_days():\n",
    "    days = 999999\n",
    "    return f\"Вы живёте {days} дней\"\n",
    "\n",
    "tell_user_days()"
   ]
  },
  {
   "cell_type": "markdown",
   "metadata": {},
   "source": [
    "# Ну и теперь ещё задачки\n",
    "\n",
    "Так как мы по сути обсудили все особенности синтаксиса, предлагается решить несколько околоматематических задачек с использованием питона. Задачки ниже это модифицированные задачки с ресурса [Project Euler](http://projecteuler.net), который я дичайще вам рекомендую."
   ]
  },
  {
   "cell_type": "markdown",
   "metadata": {},
   "source": [
    "## Exercise 1.4.1. А что 15?\n",
    "\n",
    "Если мы перечислим все натуральные числа меньше 10, которые делятся на 3 или 5, то это 3, 5, 6, и 9. Их сумма равна 23.  \n",
    "\n",
    "Напишите кусок кода который посчитает напрямую сумму всех натуральных чисел меньше 1000, которые делятся на 3 или 5.\n",
    "\n",
    "_Подсказка: обратите внимание на название задачи_"
   ]
  },
  {
   "cell_type": "markdown",
   "metadata": {},
   "source": [
    "## Exercise 1.4.2. Фибоначчи раз\n",
    "\n",
    "Каждый элемент последовательности Фибоначчи равен сумме двух предыдущих. Если мы задаём первые два элемента как 1 и 2, то первые десять будут такие:\n",
    "\n",
    "1, 2, 3, 5, 8, 13, 21, 34, 55, 89, ...\n",
    "\n",
    "Во-первых, напишите функцию которая даст вам N-ый элемент последовательности.\n",
    "А во-вторых, найдите сумму всех **чётных** элементов последовательности фибоначчи меньше 400000."
   ]
  },
  {
   "cell_type": "markdown",
   "metadata": {},
   "source": [
    "## Exercise 1.4.3. Фибоначчи два\n",
    "\n",
    "Рассмотрим ещё раз последновательность Фибоначчи. Можно сказать что она определена так:\n",
    "\n",
    "$F_n = F_{n-1} + F_{n-2}$, при этом $F_1 = 1$ и $F_2 = 1$ (определение нарочно отличается от определения в прошлой задаче).\n",
    "\n",
    "Первые 12 элементов последовательности:\n",
    "$F_1 = 1$\n",
    "\n",
    "$F_2 = 1$\n",
    "\n",
    "$F_3 = 2$\n",
    "\n",
    "$F_4 = 3$\n",
    "\n",
    "$F_5 = 5$\n",
    "\n",
    "$F_6 = 8$\n",
    "\n",
    "$F_7 = 13$\n",
    "\n",
    "$F_8 = 21$\n",
    "\n",
    "$F_9 = 34$\n",
    "\n",
    "$F_{10} = 55$\n",
    "\n",
    "$F_{11} = 89$\n",
    "\n",
    "$F_{12} = 144$\n",
    "\n",
    "Получается, индекс первого трёхзначного элемента равен 12. А какой будет индекс первого стозначного элемента последовательности Фибоначчи? "
   ]
  },
  {
   "cell_type": "markdown",
   "metadata": {},
   "source": [
    "## Exercise 1.4.4. Простые числа\n",
    "\n",
    "Первые шесть простых чисел это 2, 3, 5, 7, 11 и 13. Шестое простое число равно 13.\n",
    "\n",
    "Чему равно 1001 простое число?\n",
    "\n",
    "_Подсказка: подумайте какими признаками обладает простое число. Можете почитать про решето Эратосфена. А можете не читать_"
   ]
  },
  {
   "cell_type": "markdown",
   "metadata": {},
   "source": [
    "## Exercise 1.4.5. Складываем!\n",
    "\n",
    "$n!$ это $n \\times (n - 1) \\times (n - 2) \\times \\ldots \\times 3 \\times 2 \\times 1$\n",
    "\n",
    "Например, $10! = 10 \\times 9 \\times 8 \\times 7 \\times 6 \\times 5 \\times 4 \\times 3 \\times 2 \\times 1 = 3628800$, при этом сумма цифр в записи числа $10!$ будет $3 + 6 + 2 + 8 + 8 + 0 + 0 = 27$.\n",
    "\n",
    "Найдите сумму цифр в записи числа $100!$"
   ]
  },
  {
   "cell_type": "markdown",
   "metadata": {},
   "source": [
    "## Exercise 1.4.5. Sudoku отображатель\n",
    "\n",
    "Это скорее на десерт и расслабуху. Можете на досуге, кстати, почитать как работают алгоритмы, которые решают Судоку. А пока давайте просто научимся их красиво отображать.\n",
    "\n",
    "Я хочу функцию, которая на вход получает всю загадку судоку одной строчкой слева-направо сверху-вниз, типа такого вот <br/>\n",
    "```\n",
    "........1.......23..4..5......1.........3.6....7...58.....67....1...4...52.......\n",
    "```\n",
    "\n",
    "После чего красиво её распечатывает:\n",
    "```\n",
    "\n",
    ". . . |. . . |. . 1 \n",
    ". . . |. . . |. 2 3 \n",
    ". . 4 |. . 5 |. . . \n",
    "------+------+------\n",
    ". . . |1 . . |. . . \n",
    ". . . |. 3 . |6 . . \n",
    ". . 7 |. . . |5 8 . \n",
    "------+------+------\n",
    ". . . |. 6 7 |. . . \n",
    ". 1 . |. . 4 |. . . \n",
    "5 2 . |. . . |. . . \n",
    "```\n",
    "\n",
    "_Подсказка: тут надо повозиться с точностью определения после какого числа резать и что вставлять. Если решать задачу в лоб, то просто посчитайте, после какого числа последовательности идёт какой символ и выводите их. Но это, конечно, не очень изящно. Но зато сработает_"
   ]
  },
  {
   "cell_type": "code",
   "execution_count": 31,
   "metadata": {},
   "outputs": [],
   "source": [
    "def format_sudoku(sudoku_str):\n",
    "    for i, e in enumerate(list(sudoku_str)):\n",
    "        if i % 18 == 4:  # напоминаю, конкретные цифры в примерах с потолка\n",
    "            print(e, end=\"\\n\")\n",
    "        else:\n",
    "            print(e, end='')    "
   ]
  },
  {
   "cell_type": "code",
   "execution_count": 32,
   "metadata": {},
   "outputs": [
    {
     "name": "stdout",
     "output_type": "stream",
     "text": [
      ".....\n",
      "...1.......23..4..\n",
      "5......1.........3\n",
      ".6....7...58.....6\n",
      "7....1...4...52...\n",
      "...."
     ]
    }
   ],
   "source": [
    "format_sudoku(\"........1.......23..4..5......1.........3.6....7...58.....67....1...4...52.......\")"
   ]
  },
  {
   "cell_type": "markdown",
   "metadata": {},
   "source": [
    "Всё, если сделаете все эти задачки сами, то на этом, я думаю, можете считать себя молодцом и дальше смотреть в будущее нашей с вами программы более уверенно // IM"
   ]
  }
 ],
 "metadata": {
  "kernelspec": {
   "display_name": "Python 3",
   "language": "python",
   "name": "python3"
  },
  "language_info": {
   "codemirror_mode": {
    "name": "ipython",
    "version": 3
   },
   "file_extension": ".py",
   "mimetype": "text/x-python",
   "name": "python",
   "nbconvert_exporter": "python",
   "pygments_lexer": "ipython3",
   "version": "3.6.4"
  }
 },
 "nbformat": 4,
 "nbformat_minor": 2
}
