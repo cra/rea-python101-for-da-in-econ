{
 "cells": [
  {
   "cell_type": "markdown",
   "metadata": {},
   "source": [
    "# L1.5 Модулярность. Пример использования классов для анализа данных\n",
    "\n",
    "В целом, ничего нам не мешает и дальше продолжать писать код в тетрадках ipynb, просто внимательно следя за тем, где и как мы что оформляем и максимум выделяя какую-то повторяющуюся логику в функции. Но такой код часто не очень прикольно поддерживать, менять читать и переиспользовать.\n",
    "\n",
    "Поэтому, давайте немного поговорим про организацию кода в проекте. Делать это будем на примере канонiчного [Iris flower dataset](https://en.wikipedia.org/wiki/Iris_flower_data_set), где собраны измерения трёх видов ирисов. У этих цветочков два типа лепестков, в датасете измеряли длину и ширину каждого варианта.\n",
    "\n",
    "Скачать датасет можно [с официального источника](http://archive.ics.uci.edu/ml/datasets/Iris), либо отсюда же (он в папке datasets), либо, если вы ставили себе питон через анаконду, то можно сделать поиск по своему компьютеру и найти там у себя этот файлик.\n",
    "\n",
    "## Что этот файл из себя представляет\n",
    "\n",
    "Первые несколько строчек файла `Iris.csv` выглядят следующим образом:\n",
    "```\n",
    "SepalLength,SepalWidth,PetalLength,PetalWidth,Name\n",
    "5.1,3.5,1.4,0.2,Iris-setosa\n",
    "4.9,3.0,1.4,0.2,Iris-setosa\n",
    "4.7,3.2,1.3,0.2,Iris-setosa\n",
    "4.6,3.1,1.5,0.2,Iris-setosa\n",
    "5.0,3.6,1.4,0.2,Iris-setosa\n",
    "5.4,3.9,1.7,0.4,Iris-setosa\n",
    "4.6,3.4,1.4,0.3,Iris-setosa\n",
    "...\n",
    "```\n",
    "Это один из двух основных вариантов в котором обычно представляют этот файл. **Если вы собрались повторять за этой тетрадкой, убедитесь, что в вашем файле первые несколько строчек выглядят так же**. Вообще файлы csv представляют из себя текстовые файлы где на каждой строчке данные указаны через запятую (он неспроста называется csv, это значит &laquo;comma separated values&raquo;). В таких файлах может быть специальная строчка-заголовок, отличающаяся от других тем что она задаёт то, какой столбик за что отвечает. Как видим, в нашем случае это первые четыре столбика это некоторое число, а последняя строчка это название вида цветка. Начнём с того, что просто прочитаем этот файл:"
   ]
  },
  {
   "cell_type": "code",
   "execution_count": 1,
   "metadata": {},
   "outputs": [
    {
     "name": "stdout",
     "output_type": "stream",
     "text": [
      "В файле всего 150 наблюдений\n"
     ]
    }
   ],
   "source": [
    "f = open(\"../datasets/iris.csv\")\n",
    "print(\"В файле всего %s наблюдений\" % (len(f.readlines()) - 1))"
   ]
  },
  {
   "cell_type": "markdown",
   "metadata": {},
   "source": [
    "Дальше, пусть я хочу прочитать все эти данные и пересохранить их в другом виде:\n",
    "```\n",
    "data = {\n",
    "    \"Iris-setosa\": {\n",
    "        \"sepal.length\": [5.1, 4.9, 4.7, 4.6, 5.0, ...],\n",
    "        \"sepal.width\":  [3.5, 3.0, 3.2, 3.1, 3.6, ...],\n",
    "        \"petal.length\": [1.4, 1.4, 1.3, 1.5, 1.4, ...],\n",
    "        \"sepal.width\":  [0.2, 0.2, 0.2, 0.2, 0.2, ...],\n",
    "     },\n",
    "     \"Iris-versicolor: {\n",
    "        \"sepal.length\": [...],\n",
    "        \"sepal.width\": [...],\n",
    "        ...\n",
    "     },\n",
    "     ...\n",
    "}\n",
    "```\n",
    "\n",
    "Ну то есть, сделать из плоской структуры иерархическую. И таким образом $i$-я строчка\n",
    "```\n",
    "5.1,3.5,1.4,0.2,Iris-setosa```\n",
    "сохранится в такой структуре так, что, например, число 1.4 будет доступно как\n",
    "```\n",
    "data[\"Iris-setosa\"][\"petal.length\"][i]```\n",
    "\n",
    "Нам понадобиться модифицировать наш код для чтения файла. Сделаем максимально в лоб сначала"
   ]
  },
  {
   "cell_type": "code",
   "execution_count": 2,
   "metadata": {},
   "outputs": [],
   "source": [
    "fpath = \"../datasets/iris.csv\"\n",
    "data = {}\n",
    "f = open(fpath)\n",
    "n = 0\n",
    "for line in f.readlines():\n",
    "    n += 1\n",
    "    if n == 0: # skip header\n",
    "        continue\n",
    "\n",
    "    s_len, s_width, p_len, p_width, name = line.split(',')\n",
    "    name = name.strip()\n",
    "    if name in data:\n",
    "        data[name][\"sepal.length\"].append(float(s_len))\n",
    "        data[name][\"sepal.width\"].append(float(s_width))\n",
    "        data[name][\"petal.length\"].append(float(p_len))\n",
    "        data[name][\"petal.width\"].append(float(p_width))\n",
    "    else:\n",
    "        data[name] = {\n",
    "            \"sepal.length\": [float(s_len)],\n",
    "            \"sepal.width\": [float(s_width)],\n",
    "            \"petal.length\": [float(p_len)],\n",
    "            \"petal.width\": [float(p_width)],\n",
    "        }"
   ]
  },
  {
   "cell_type": "markdown",
   "metadata": {},
   "source": [
    "В коде не сделано никаких проверок на ошибки, типа если нам пришли плохие данные или что-то в этом духе, и это в принципе не очень хорошо, но обычно к тому моменту как вы начинаете тыкать свой датасет в jupyter тетрадке, он у вас уже чистый.\n",
    "\n",
    "Если вы не поняли код выше, прочитайте его ещё раз. Мы писали что-то похожее когда считали токены в строке. Немного перепишем код так, чтобы он использовал наши знания про стандартную библиотеку языка и некоторые штучки python:"
   ]
  },
  {
   "cell_type": "code",
   "execution_count": 3,
   "metadata": {},
   "outputs": [],
   "source": [
    "from collections import defaultdict\n",
    "import csv\n",
    "\n",
    "data = defaultdict(lambda: defaultdict(list))\n",
    "with open(\"../datasets/iris.csv\") as f:\n",
    "    r = csv.reader(f)\n",
    "    for i, row in enumerate(r):\n",
    "        if i == 0: # skip header\n",
    "            continue\n",
    "\n",
    "        s_len, s_width, p_len, p_width, name = row\n",
    "        name = name.strip()\n",
    "        data[name][\"sepal.length\"].append(float(s_len))\n",
    "        data[name][\"sepal.width\"].append(float(s_width))\n",
    "        data[name][\"petal.length\"].append(float(p_len))\n",
    "        data[name][\"petal.width\"].append(float(p_width))"
   ]
  },
  {
   "cell_type": "code",
   "execution_count": 4,
   "metadata": {},
   "outputs": [
    {
     "name": "stdout",
     "output_type": "stream",
     "text": [
      "Случайно выбранная ширина листка наблюдений за Iris-setosa: 0.6\n"
     ]
    }
   ],
   "source": [
    "import random\n",
    "\n",
    "print(\"Случайно выбранная ширина листка наблюдений за Iris-setosa:\",\n",
    "      random.choice(data[\"Iris-setosa\"][\"petal.width\"]))"
   ]
  },
  {
   "cell_type": "markdown",
   "metadata": {},
   "source": [
    "Помимо того, что мы научились это читать, мы хотим ещё по этим данным собирать какую-то статистику. Например, посчитать разброс значений для получившихся последовательностей:"
   ]
  },
  {
   "cell_type": "code",
   "execution_count": 5,
   "metadata": {},
   "outputs": [
    {
     "name": "stdout",
     "output_type": "stream",
     "text": [
      "Данные по petal.width для Iris-setosa разбросаны от 0.1 до 0.6\n"
     ]
    }
   ],
   "source": [
    "def give_min_max(iris_kind, feature):\n",
    "    mi = min(data[iris_kind][feature])\n",
    "    ma = max(data[iris_kind][feature])\n",
    "    return (mi, ma)\n",
    "\n",
    "print(\n",
    "    \"Данные по petal.width для Iris-setosa разбросаны от %s до %s\"\n",
    "    % give_min_max(\"Iris-setosa\", \"petal.width\"))"
   ]
  },
  {
   "cell_type": "markdown",
   "metadata": {},
   "source": [
    "Эта мысль сейчас может быть неочевидна, но любая функция такого рода будет использовать нашу переменную `data`, которую мы выше определили и если вдруг у нас будет другая переменная `data` где-то в другом месте в той же тетрадке, то может начаться путаница. Это, конечно, можно решить просто передавая `data` как параметр в такие функции, но есть инструмент лучше. В общем, мораль тут такая что для того чтобы просто получить информацию по цветку надо слишком много всего писать, какие-то дополнительные функции и тому подобное. Хотелось бы просто спрятать это, чтобы оно не отвлекало от остального. Для такого можно написать класс и у всю эту логику спрятать туда.\n",
    "\n",
    "А чтобы было совсем хорошо, создайте отдельный файл (например `my_iris_reader.py`) и сохраните туда всё, что вы хотите убрать туда про работу нашего класса"
   ]
  },
  {
   "cell_type": "code",
   "execution_count": 6,
   "metadata": {},
   "outputs": [],
   "source": [
    "from collections import defaultdict\n",
    "import csv\n",
    "from statistics import mean\n",
    "\n",
    "class IrisReader:\n",
    "    def __init__(self, fpath):\n",
    "        self.fpath = fpath\n",
    "        self.data = {}\n",
    "        self.read_input()\n",
    "        \n",
    "    def read_input(self):\n",
    "        self.data = defaultdict(lambda: defaultdict(list))\n",
    "        with open(self.fpath) as f:\n",
    "            r = csv.reader(f)\n",
    "            for i, row in enumerate(r):\n",
    "                if i == 0: # skip header\n",
    "                    continue\n",
    "\n",
    "                s_len, s_width, p_len, p_width, name = row\n",
    "                name = name.strip()\n",
    "                self.data[name][\"sepal.length\"].append(float(s_len))\n",
    "                self.data[name][\"sepal.width\"].append(float(s_width))\n",
    "                self.data[name][\"petal.length\"].append(float(p_len))\n",
    "                self.data[name][\"petal.width\"].append(float(p_width))\n",
    "            \n",
    "    def give_min_max(self, iris_kind, feature=None):\n",
    "        # вернуть минимум и максимум по заданой фиче\n",
    "        # если фича не задана, вернуть перечень пар по всем фичам\n",
    "        if iris_kind is None:\n",
    "            return 0, 0\n",
    "\n",
    "        if feature is not None:\n",
    "            return min(self.data[iris_kind][feature]), max(self.data[iris_kind][feature])\n",
    "        \n",
    "        return [(min(x), max(x)) for x in self.data[iris_kind].values()]\n",
    "    \n",
    "    def give_avg(self, iris_kind, feature=None):\n",
    "        if iris_kind is None:\n",
    "            return 0\n",
    "\n",
    "        if feature is not None:\n",
    "            return mean(self.data[iris_kind][feature])\n",
    "        \n",
    "        return [mean(x) for x in self.data[iris_kind].values()]\n",
    "    \n",
    "    @property\n",
    "    def iris_kinds(self):\n",
    "        return self.data.keys()"
   ]
  },
  {
   "cell_type": "markdown",
   "metadata": {},
   "source": [
    "Ну и тогда потом это можно уже использовать из (например, нового) ноутбука, пряча всю реализацию\n",
    "\n",
    "```python\n",
    "from my_iris_reader import IrisReader\n",
    "\n",
    "i = IrisReader(\"../dataset/iris.csv\")\n",
    "print(\", \".join(i.iris_kinds))\n",
    "print(i.give_avg(\"Iris-setosa\", \"sepal.length\"))\n",
    "```\n",
    "\n",
    "В общем, мораль тут такая, что как только у вас появляется кусочек когда который вам кажется достаточно отвлекающим или потенциально переиспользуемым, разумно его выделить в отдельный модуль.\n",
    "\n",
    "В нашем коде сейчас есть один нюанс. Он не проверяет, что передаваемое `iris_kind` есть среди разрешённых слов. Можно дописать дополнительные проверки в каждой функции (и это вообще говоря будет правильно потому что тогда не будет зависеть от заранее захардкоженых значений), но мы пойдём немного другим путём, навесив на функции самописный декоратор, проверяющий, что передаваемый `iris_kind` входит в разрешённый набор названий ирисов. Для этого нам надо добавить несколько строчек в наш модуль:"
   ]
  },
  {
   "cell_type": "code",
   "execution_count": 7,
   "metadata": {},
   "outputs": [],
   "source": [
    "ALLOWED_IRIS_TYPES = (\"Iris-setosa\", \"Iris-virginica\", \"Iris-versicolor\")\n",
    "\n",
    "def iris_kind_approved(func):\n",
    "    def f(*args, **kwargs):\n",
    "        if \"iris_kind\" in kwargs:\n",
    "            if kwargs['iris_kind'] not in ALLOWED_IRIS_TYPES:\n",
    "                print(\"Информация про тип ирисов %s или недоступна или её нет\" % kwargs[\"iris_kind\"])\n",
    "                return None\n",
    "        elif args[1].startswith(\"Iris\"):\n",
    "            if args[1] not in ALLOWED_IRIS_TYPES:\n",
    "                print(\"Информация про тип ирисов %s или недоступна или её нет\" % kwargs[\"iris_kind\"])\n",
    "                return None\n",
    "            \n",
    "        return func(*args, **kwargs)\n",
    "    return f"
   ]
  },
  {
   "cell_type": "markdown",
   "metadata": {},
   "source": [
    "И потом это можно использовать как декораторы на методах вашего класса:\n",
    "```python\n",
    "    ...\n",
    "    @iris_kind_approved\n",
    "    def give_avg(self, iris_kind, ...):\n",
    "        ...\n",
    "    ...\n",
    "```\n",
    "\n",
    "Попробуйте это сделать и исправьте ошибки, если вдруг не получится с первого раза.\n",
    "\n",
    "# Связные списки\n",
    "\n",
    "Ещё классы можно использовать, если вам захочется написать какую-то свою структуру данных. Например, связный список. Это базовый примитив в программировании, которые часто любят использовать для демонстрации каких-нибудь алгоритмических задач. Они примечательны тем, что незваисимо от количества элементов в связном списке операция добавления элемента в начало списка всегда выполняется за некоторое (обычно небольшое) константное время"
   ]
  },
  {
   "cell_type": "code",
   "execution_count": 8,
   "metadata": {},
   "outputs": [],
   "source": [
    "class Node(object):\n",
    "    def __init__(self, value=None, next_node=None):\n",
    "        self.value = value\n",
    "        self.next = next_node\n",
    "        \n",
    "    def __str__(self):\n",
    "        return f\"[Node with value {self.value}]\"\n",
    "\n",
    "def print_linked_list(head):\n",
    "    cur = head\n",
    "    while cur is not None:\n",
    "        print(cur)\n",
    "        cur = cur.next"
   ]
  },
  {
   "cell_type": "code",
   "execution_count": 9,
   "metadata": {},
   "outputs": [
    {
     "name": "stdout",
     "output_type": "stream",
     "text": [
      "[Node with value 1]\n",
      "[Node with value 2]\n",
      "[Node with value 3]\n",
      "[Node with value Внезапно]\n",
      "[Node with value 5]\n"
     ]
    }
   ],
   "source": [
    "h, a, b, c, d = Node(1), Node(2), Node(3), Node(\"Внезапно\"), Node(5)\n",
    "\n",
    "h.next = a\n",
    "a.next = b\n",
    "b.next = c\n",
    "c.next = d\n",
    "        \n",
    "print_linked_list(h)"
   ]
  },
  {
   "cell_type": "markdown",
   "metadata": {},
   "source": [
    "## Exercise 1.5.0\n",
    "\n",
    "Напишите функцию (пусть онабудет называться `reverse_linked_list`), которая разворачивает связный список. На вход она принимает головную ноду, а на выход отдаёт хвостовую ноду исходного списка, но только теперь если попробовать пройтись по ней, она будет новой головной. С функцией из примера выше,\n",
    "\n",
    "```python\n",
    "print_linked_list(h)\n",
    "h = reverse_linked_list(h)\n",
    "print(\"---\")\n",
    "print_linked_list(h)\n",
    "```\n",
    "\n",
    "Напечатает\n",
    "```\n",
    "[Node with value 1]\n",
    "[Node with value 2]\n",
    "[Node with value 3]\n",
    "[Node with value Внезапно]\n",
    "[Node with value 5]\n",
    "---\n",
    "[Node with value 5]\n",
    "[Node with value Внезапно]\n",
    "[Node with value 3]\n",
    "[Node with value 2]\n",
    "[Node with value 1]\n",
    "```\n",
    "\n",
    "_Подсказка: вам понадобится \"вспомогательная нода\", куда вы будете переворачивать список. Можете написать вспомотаельную функцию которая \"переворачивает ноду\"._"
   ]
  },
  {
   "cell_type": "markdown",
   "metadata": {},
   "source": [
    "## Exercise 1.5.1\n",
    "\n",
    "Напишите функцию, которая на вход получает голову связного списка, и удаляет из него все неуникальные (по значению) элементы. Предположите что все элементы которые будут вам встречаться -- числа.\n",
    "\n",
    "```python\n",
    "print_linked_list(h)\n",
    "h = remove_duplicates(h)\n",
    "print(\"---\")\n",
    "print_linked_list(h)\n",
    "```\n",
    "\n",
    "Напечатает\n",
    "```\n",
    "[Node with value 1]\n",
    "[Node with value 1]\n",
    "[Node with value 3]\n",
    "[Node with value 2]\n",
    "[Node with value 4]\n",
    "[Node with value 4]\n",
    "[Node with value 5]\n",
    "[Node with value 4]\n",
    "[Node with value 5]\n",
    "---\n",
    "[Node with value 3]\n",
    "[Node with value 2]\n",
    "```"
   ]
  },
  {
   "cell_type": "markdown",
   "metadata": {},
   "source": [
    "## Exercise 1.5.2\n",
    "\n",
    "Напишите функцию которая получает на вход голову связного списка и число $k$, а возвращает узел, соответствующий $k$-му узлу **с конца** списка.\n",
    "\n",
    "```python\n",
    "print_linked_list(h)\n",
    "print(\"---\")\n",
    "n = give_kth_last(h, 3)\n",
    "print(n)\n",
    "```\n",
    "\n",
    "Напечатает\n",
    "```\n",
    "[Node with value 3]\n",
    "[Node with value 1]\n",
    "[Node with value 2]\n",
    "[Node with value 7]\n",
    "[Node with value 5]\n",
    "[Node with value 4]\n",
    "[Node with value 0]\n",
    "[Node with value 9]\n",
    "---\n",
    "[Node with value 4]\n",
    "```"
   ]
  },
  {
   "cell_type": "markdown",
   "metadata": {},
   "source": [
    "## Exercise 1.5.3\n",
    "\n",
    "Допустим, мы используем связные списки чтобы хитро хранить числа (в реальной жизни это могут быть какие-то связные записи о пользователях и вы, допустим, ходите отдельно в базу). Суть хитрости в том что каждый разряд хранится как отдельная нода, и в каждой ноде хранится число от 0 до 9 включительно. Вам предлагается написать функцию `reduce_two_linked_lists`, которая будет складывать эти числа (с \"отбивкой\" вправо). На вход она принимает два указателя на головы соответствующих списков.\n",
    "\n",
    "Например, как-то так:\n",
    "\n",
    "```python\n",
    "class DigitNode(object):\n",
    "    def __init__(self, digit):\n",
    "        if 0 <= digit <= 9:\n",
    "            self.digit = digit\n",
    "            self.next = None\n",
    "        else:\n",
    "            raise ValueError(\"Можно только целые числа от 0 до 9\")\n",
    "                \n",
    "    def __str__(self):\n",
    "        return f\"[DigitNode({self.digit})]\"\n",
    "\n",
    "\n",
    "h1 = DigitNode(2)\n",
    "h1.next = DigitNode(3)\n",
    "h1.next.next = DigitNode(5)\n",
    "print_linked_list(h1)\n",
    "print(\"---\")\n",
    "h2 = DigitNode(2)\n",
    "h2.next = DigitNode(7)\n",
    "print_linked_list(h2)\n",
    "print(\"---\")\n",
    "print(\"Сумма:\", reduce_two_linked_lists(h1, h2))\n",
    "```\n",
    "\n",
    "Выдаст\n",
    "```\n",
    "[DigitNode with value 2]\n",
    "[DigitNode with value 3]\n",
    "[DigitNode with value 5]\n",
    "---\n",
    "[DigitNode with value 2]\n",
    "[DigitNode with value 7]\n",
    "---\n",
    "Сумма: 262\n",
    "```\n",
    "\n",
    "_Подсказка: как вариант, сначала напишите функцию, которая читает подобный список и возвращает число, которое у неё получилось. Например, она может просто сохранять все числа в строку и потом приводить к целочисленному типу_"
   ]
  },
  {
   "cell_type": "markdown",
   "metadata": {},
   "source": [
    "## Exercise 1.5.4*\n",
    "\n",
    "Сортировкой пузырьком это один из самых простейших алгоритмов сортировки, который можно придумать. В базовом виде он подразумеват вложенный цикл и реализуется как-то так"
   ]
  },
  {
   "cell_type": "code",
   "execution_count": 10,
   "metadata": {},
   "outputs": [
    {
     "name": "stdout",
     "output_type": "stream",
     "text": [
      "[0, 1, 1, 2, 2, 4]\n"
     ]
    }
   ],
   "source": [
    "l = [2, 4, 1, 1, 2, 0]\n",
    "\n",
    "for i in range(len(l)):\n",
    "    for j in range(i, len(l)):\n",
    "        if l[i] > l[j]:\n",
    "            l[i], l[j] = l[j], l[i]\n",
    "\n",
    "print(l)"
   ]
  },
  {
   "cell_type": "markdown",
   "metadata": {},
   "source": [
    "Вам предлагается написать функцию, которая будет на вход получать голову несортированного связного списка, а на выход возвращать голову отсортированного.\n",
    "\n",
    "_Подсказка: так как в задании ничего не сказано про то, как должна вести себя функция, можете считать что можно просто менять значения, которые лежат в нодах, без замены их указателей. Или можете написать вспомогательную функцию, которая будет менять две ноды местами._\n",
    "\n",
    "Эта задачка вполне может показаться вам запутанной и сложной. Но я советую всё равно её решить."
   ]
  },
  {
   "cell_type": "markdown",
   "metadata": {},
   "source": [
    "Ну ладно. В общем, такого рода задачки это типичные задачки которые стоит порешать, если вы серьёзно хотите примерить на себя шляпу программиста. Там помимо таких конструкций как вот эти вот связные списки будет ещё много чего другого интересно, например бинарные деревья, куча и хэш-таблицы (и много чего другого). Решение задачек на обработку таких структур доставляет своё изощрённое удовольствие. Не отказываете себе в нём // IM"
   ]
  }
 ],
 "metadata": {
  "kernelspec": {
   "display_name": "Python 3",
   "language": "python",
   "name": "python3"
  },
  "language_info": {
   "codemirror_mode": {
    "name": "ipython",
    "version": 3
   },
   "file_extension": ".py",
   "mimetype": "text/x-python",
   "name": "python",
   "nbconvert_exporter": "python",
   "pygments_lexer": "ipython3",
   "version": "3.6.4"
  }
 },
 "nbformat": 4,
 "nbformat_minor": 2
}
